{
 "cells": [
  {
   "cell_type": "code",
   "execution_count": 176,
   "metadata": {
    "collapsed": true
   },
   "outputs": [],
   "source": [
    "import os\n",
    "import pandas as pd\n",
    "import codecs\n",
    "import re\n",
    "import jieba"
   ]
  },
  {
   "cell_type": "code",
   "execution_count": 177,
   "metadata": {
    "collapsed": true
   },
   "outputs": [],
   "source": [
    "train_data_path = r'E:\\data\\competeDataForA.csv'\n",
    "test_data_path = r'E:\\data\\evaluationDataForA.csv'"
   ]
  },
  {
   "cell_type": "code",
   "execution_count": 178,
   "metadata": {
    "collapsed": true
   },
   "outputs": [],
   "source": [
    "df = pd.DataFrame(columns=('id','ocr','label'))\n",
    "df_test = pd.DataFrame(columns=('id','ocr'))\n",
    "# df.append({'id':'1','ocr':'2','label':'3'},ignore_index=True)"
   ]
  },
  {
   "cell_type": "code",
   "execution_count": 179,
   "metadata": {
    "collapsed": true
   },
   "outputs": [],
   "source": [
    "train_f = codecs.open(train_data_path,'r','utf-8')\n",
    "test_f = codecs.open(test_data_path,'r','utf-8')\n",
    "train_lines = train_f.readlines()[1:]\n",
    "train_lines = [line.strip() for line in train_lines]\n",
    "test_lines = test_f.readlines()[1:]\n",
    "test_lines = [line.strip() for line in test_lines]"
   ]
  },
  {
   "cell_type": "code",
   "execution_count": 180,
   "metadata": {},
   "outputs": [
    {
     "data": {
      "text/html": [
       "<div>\n",
       "<style scoped>\n",
       "    .dataframe tbody tr th:only-of-type {\n",
       "        vertical-align: middle;\n",
       "    }\n",
       "\n",
       "    .dataframe tbody tr th {\n",
       "        vertical-align: top;\n",
       "    }\n",
       "\n",
       "    .dataframe thead th {\n",
       "        text-align: right;\n",
       "    }\n",
       "</style>\n",
       "<table border=\"1\" class=\"dataframe\">\n",
       "  <thead>\n",
       "    <tr style=\"text-align: right;\">\n",
       "      <th></th>\n",
       "      <th>id</th>\n",
       "      <th>ocr</th>\n",
       "      <th>label</th>\n",
       "    </tr>\n",
       "  </thead>\n",
       "  <tbody>\n",
       "    <tr>\n",
       "      <th>0</th>\n",
       "      <td>12073154731</td>\n",
       "      <td>(安妮说,酒红虽然属于红色系,却比耀眼的正红少了几分张扬,能彰显出独有的优雅与高贵,还能将肤...</td>\n",
       "      <td>1</td>\n",
       "    </tr>\n",
       "    <tr>\n",
       "      <th>1</th>\n",
       "      <td>12643089007</td>\n",
       "      <td>2安全头,R型钝角处理 安全保障,O*,刀头R型钝角设计,开机运行时任何角度接触肌肤,都能保...</td>\n",
       "      <td>0</td>\n",
       "    </tr>\n",
       "    <tr>\n",
       "      <th>2</th>\n",
       "      <td>12166121794</td>\n",
       "      <td>好衣服,需好面料,优质面料让衣服更加合身,用细节决定品质,Determin,服更加合身,挺拔...</td>\n",
       "      <td>0</td>\n",
       "    </tr>\n",
       "    <tr>\n",
       "      <th>3</th>\n",
       "      <td>12071292753</td>\n",
       "      <td>\"(),三,上净报工,展示,2013年属中国轻工百,凤凰,海轻工名忧,特产品金,风照,该黑荐...</td>\n",
       "      <td>1</td>\n",
       "    </tr>\n",
       "    <tr>\n",
       "      <th>4</th>\n",
       "      <td>11781542555</td>\n",
       "      <td>03螺纹加热盘/,底部感温系,佳感其,锅内温度,传热均匀,储,热高,使食物得到最佳烹,饪数果...</td>\n",
       "      <td>0</td>\n",
       "    </tr>\n",
       "  </tbody>\n",
       "</table>\n",
       "</div>"
      ],
      "text/plain": [
       "            id                                                ocr label\n",
       "0  12073154731  (安妮说,酒红虽然属于红色系,却比耀眼的正红少了几分张扬,能彰显出独有的优雅与高贵,还能将肤...     1\n",
       "1  12643089007  2安全头,R型钝角处理 安全保障,O*,刀头R型钝角设计,开机运行时任何角度接触肌肤,都能保...     0\n",
       "2  12166121794  好衣服,需好面料,优质面料让衣服更加合身,用细节决定品质,Determin,服更加合身,挺拔...     0\n",
       "3  12071292753  \"(),三,上净报工,展示,2013年属中国轻工百,凤凰,海轻工名忧,特产品金,风照,该黑荐...     1\n",
       "4  11781542555  03螺纹加热盘/,底部感温系,佳感其,锅内温度,传热均匀,储,热高,使食物得到最佳烹,饪数果...     0"
      ]
     },
     "execution_count": 180,
     "metadata": {},
     "output_type": "execute_result"
    }
   ],
   "source": [
    "for line in train_lines:\n",
    "    id = line.split(\"\\t\")[0]\n",
    "    len_id = len(id)\n",
    "    ocr = line[len_id+1:-1]\n",
    "    label = int(line[-1])\n",
    "    df = df.append({'id':line.split(\"\\t\")[0],'ocr':ocr,'label':label},ignore_index=True)\n",
    "df.head()"
   ]
  },
  {
   "cell_type": "code",
   "execution_count": 181,
   "metadata": {},
   "outputs": [
    {
     "data": {
      "text/html": [
       "<div>\n",
       "<style scoped>\n",
       "    .dataframe tbody tr th:only-of-type {\n",
       "        vertical-align: middle;\n",
       "    }\n",
       "\n",
       "    .dataframe tbody tr th {\n",
       "        vertical-align: top;\n",
       "    }\n",
       "\n",
       "    .dataframe thead th {\n",
       "        text-align: right;\n",
       "    }\n",
       "</style>\n",
       "<table border=\"1\" class=\"dataframe\">\n",
       "  <thead>\n",
       "    <tr style=\"text-align: right;\">\n",
       "      <th></th>\n",
       "      <th>id</th>\n",
       "      <th>ocr</th>\n",
       "    </tr>\n",
       "  </thead>\n",
       "  <tbody>\n",
       "    <tr>\n",
       "      <th>0</th>\n",
       "      <td>1001562100</td>\n",
       "      <td>l和美德，三贵miki轮椅MPTB-43JUS型，产品优点，摆脱传统轮椅笨重外观，实现最轻量...</td>\n",
       "    </tr>\n",
       "    <tr>\n",
       "      <th>1</th>\n",
       "      <td>1001769885</td>\n",
       "      <td>\"PRODUCT*SPECIEICATINS产品规格，UALITYC，EcOSTPi，IAN...</td>\n",
       "    </tr>\n",
       "    <tr>\n",
       "      <th>2</th>\n",
       "      <td>1002137536</td>\n",
       "      <td>语，盛果G，Nnique，O，曾今有一份真挚的感情放在我面前，我没有珍惜，直到失去了我才后悔...</td>\n",
       "    </tr>\n",
       "    <tr>\n",
       "      <th>3</th>\n",
       "      <td>1002517553</td>\n",
       "      <td>示德国，牵引装备，INGERN，一防爆冲一经久耐用一最大限度贴合宠物皮肤一</td>\n",
       "    </tr>\n",
       "    <tr>\n",
       "      <th>4</th>\n",
       "      <td>1002997850</td>\n",
       "      <td>\"产品细节展示，(贴心设计只为更实用&gt;，[日本s，原料，BB，3霜新伙伴*，持续清爽不惧油光...</td>\n",
       "    </tr>\n",
       "  </tbody>\n",
       "</table>\n",
       "</div>"
      ],
      "text/plain": [
       "           id                                                ocr\n",
       "0  1001562100  l和美德，三贵miki轮椅MPTB-43JUS型，产品优点，摆脱传统轮椅笨重外观，实现最轻量...\n",
       "1  1001769885  \"PRODUCT*SPECIEICATINS产品规格，UALITYC，EcOSTPi，IAN...\n",
       "2  1002137536  语，盛果G，Nnique，O，曾今有一份真挚的感情放在我面前，我没有珍惜，直到失去了我才后悔...\n",
       "3  1002517553              示德国，牵引装备，INGERN，一防爆冲一经久耐用一最大限度贴合宠物皮肤一\n",
       "4  1002997850  \"产品细节展示，(贴心设计只为更实用>，[日本s，原料，BB，3霜新伙伴*，持续清爽不惧油光..."
      ]
     },
     "execution_count": 181,
     "metadata": {},
     "output_type": "execute_result"
    }
   ],
   "source": [
    "for line in test_lines:\n",
    "    id = line.split(\"\\t\")[0]\n",
    "    len_id = len(id)\n",
    "    ocr = line[len_id+1:-1]\n",
    "    df_test = df_test.append({'id':line.split(\"\\t\")[0],'ocr':ocr},ignore_index=True)\n",
    "df_test.head()"
   ]
  },
  {
   "cell_type": "code",
   "execution_count": 182,
   "metadata": {
    "collapsed": true
   },
   "outputs": [],
   "source": [
    "def clean_text(s):\n",
    "    string = re.sub(\"[\\s+\\.\\!\\/_,$%^*(+\\\"\\']+|[+——！，。？、~@#￥%……&*（）()]+\", \"\",s)\n",
    "    string = re.sub(\"[a-zA-Z0-9]\",\"\",string)\n",
    "    return \" \".join(jieba.lcut(string))\n",
    "df['text'] = df.ocr.apply(clean_text)\n",
    "df_test['text'] = df_test.ocr.apply(clean_text)"
   ]
  },
  {
   "cell_type": "code",
   "execution_count": 183,
   "metadata": {},
   "outputs": [
    {
     "data": {
      "text/html": [
       "<div>\n",
       "<style scoped>\n",
       "    .dataframe tbody tr th:only-of-type {\n",
       "        vertical-align: middle;\n",
       "    }\n",
       "\n",
       "    .dataframe tbody tr th {\n",
       "        vertical-align: top;\n",
       "    }\n",
       "\n",
       "    .dataframe thead th {\n",
       "        text-align: right;\n",
       "    }\n",
       "</style>\n",
       "<table border=\"1\" class=\"dataframe\">\n",
       "  <thead>\n",
       "    <tr style=\"text-align: right;\">\n",
       "      <th></th>\n",
       "      <th>id</th>\n",
       "      <th>ocr</th>\n",
       "      <th>label</th>\n",
       "      <th>text</th>\n",
       "    </tr>\n",
       "  </thead>\n",
       "  <tbody>\n",
       "    <tr>\n",
       "      <th>0</th>\n",
       "      <td>12073154731</td>\n",
       "      <td>(安妮说,酒红虽然属于红色系,却比耀眼的正红少了几分张扬,能彰显出独有的优雅与高贵,还能将肤...</td>\n",
       "      <td>1</td>\n",
       "      <td>安妮 说 酒 红 虽然 属于 红色 系 却 比 耀眼 的 正红少 了 几分 张扬 能 彰显 ...</td>\n",
       "    </tr>\n",
       "    <tr>\n",
       "      <th>1</th>\n",
       "      <td>12643089007</td>\n",
       "      <td>2安全头,R型钝角处理 安全保障,O*,刀头R型钝角设计,开机运行时任何角度接触肌肤,都能保...</td>\n",
       "      <td>0</td>\n",
       "      <td>安全 头型 钝角 处理 安全 保障 刀头 型 钝角 设计 开机 运行 时 任何 角度 接触 ...</td>\n",
       "    </tr>\n",
       "    <tr>\n",
       "      <th>2</th>\n",
       "      <td>12166121794</td>\n",
       "      <td>好衣服,需好面料,优质面料让衣服更加合身,用细节决定品质,Determin,服更加合身,挺拔...</td>\n",
       "      <td>0</td>\n",
       "      <td>好 衣服 需好 面料 优质 面料 让 衣服 更加 合身 用 细节决定 品质 服 更加 合身 ...</td>\n",
       "    </tr>\n",
       "    <tr>\n",
       "      <th>3</th>\n",
       "      <td>12071292753</td>\n",
       "      <td>\"(),三,上净报工,展示,2013年属中国轻工百,凤凰,海轻工名忧,特产品金,风照,该黑荐...</td>\n",
       "      <td>1</td>\n",
       "      <td>三上 净 报工 展示 年 属 中国 轻工 百 凤凰 海 轻工 名忧 特产品 金风 照该 黑荐...</td>\n",
       "    </tr>\n",
       "    <tr>\n",
       "      <th>4</th>\n",
       "      <td>11781542555</td>\n",
       "      <td>03螺纹加热盘/,底部感温系,佳感其,锅内温度,传热均匀,储,热高,使食物得到最佳烹,饪数果...</td>\n",
       "      <td>0</td>\n",
       "      <td>螺纹 加热 盘 底部 感温 系佳感 其锅 内 温度 传热 均匀 储热高 使 食物 得到 最佳...</td>\n",
       "    </tr>\n",
       "  </tbody>\n",
       "</table>\n",
       "</div>"
      ],
      "text/plain": [
       "            id                                                ocr label  \\\n",
       "0  12073154731  (安妮说,酒红虽然属于红色系,却比耀眼的正红少了几分张扬,能彰显出独有的优雅与高贵,还能将肤...     1   \n",
       "1  12643089007  2安全头,R型钝角处理 安全保障,O*,刀头R型钝角设计,开机运行时任何角度接触肌肤,都能保...     0   \n",
       "2  12166121794  好衣服,需好面料,优质面料让衣服更加合身,用细节决定品质,Determin,服更加合身,挺拔...     0   \n",
       "3  12071292753  \"(),三,上净报工,展示,2013年属中国轻工百,凤凰,海轻工名忧,特产品金,风照,该黑荐...     1   \n",
       "4  11781542555  03螺纹加热盘/,底部感温系,佳感其,锅内温度,传热均匀,储,热高,使食物得到最佳烹,饪数果...     0   \n",
       "\n",
       "                                                text  \n",
       "0  安妮 说 酒 红 虽然 属于 红色 系 却 比 耀眼 的 正红少 了 几分 张扬 能 彰显 ...  \n",
       "1  安全 头型 钝角 处理 安全 保障 刀头 型 钝角 设计 开机 运行 时 任何 角度 接触 ...  \n",
       "2  好 衣服 需好 面料 优质 面料 让 衣服 更加 合身 用 细节决定 品质 服 更加 合身 ...  \n",
       "3  三上 净 报工 展示 年 属 中国 轻工 百 凤凰 海 轻工 名忧 特产品 金风 照该 黑荐...  \n",
       "4  螺纹 加热 盘 底部 感温 系佳感 其锅 内 温度 传热 均匀 储热高 使 食物 得到 最佳...  "
      ]
     },
     "execution_count": 183,
     "metadata": {},
     "output_type": "execute_result"
    }
   ],
   "source": [
    "df.head()"
   ]
  },
  {
   "cell_type": "code",
   "execution_count": 184,
   "metadata": {},
   "outputs": [
    {
     "data": {
      "text/html": [
       "<div>\n",
       "<style scoped>\n",
       "    .dataframe tbody tr th:only-of-type {\n",
       "        vertical-align: middle;\n",
       "    }\n",
       "\n",
       "    .dataframe tbody tr th {\n",
       "        vertical-align: top;\n",
       "    }\n",
       "\n",
       "    .dataframe thead th {\n",
       "        text-align: right;\n",
       "    }\n",
       "</style>\n",
       "<table border=\"1\" class=\"dataframe\">\n",
       "  <thead>\n",
       "    <tr style=\"text-align: right;\">\n",
       "      <th></th>\n",
       "      <th>id</th>\n",
       "      <th>ocr</th>\n",
       "      <th>text</th>\n",
       "    </tr>\n",
       "  </thead>\n",
       "  <tbody>\n",
       "    <tr>\n",
       "      <th>0</th>\n",
       "      <td>1001562100</td>\n",
       "      <td>l和美德，三贵miki轮椅MPTB-43JUS型，产品优点，摆脱传统轮椅笨重外观，实现最轻量...</td>\n",
       "      <td>和 美德 三贵 轮椅 - 型 产品 优点 摆脱 传统 轮椅 笨重 外观 实现 最 轻量化 的...</td>\n",
       "    </tr>\n",
       "    <tr>\n",
       "      <th>1</th>\n",
       "      <td>1001769885</td>\n",
       "      <td>\"PRODUCT*SPECIEICATINS产品规格，UALITYC，EcOSTPi，IAN...</td>\n",
       "      <td>产品规格 天然 木刀座 人性化 斜切 角 插口 天然 木制 荚板 村质 高端 做工 精致 品...</td>\n",
       "    </tr>\n",
       "    <tr>\n",
       "      <th>2</th>\n",
       "      <td>1002137536</td>\n",
       "      <td>语，盛果G，Nnique，O，曾今有一份真挚的感情放在我面前，我没有珍惜，直到失去了我才后悔...</td>\n",
       "      <td>语盛果 曾 今 有 一份 真挚 的 感情 放在 我 面前 我 没有 珍惜 直到 失去 了 我...</td>\n",
       "    </tr>\n",
       "    <tr>\n",
       "      <th>3</th>\n",
       "      <td>1002517553</td>\n",
       "      <td>示德国，牵引装备，INGERN，一防爆冲一经久耐用一最大限度贴合宠物皮肤一</td>\n",
       "      <td>示 德国 牵引 装备 一 防爆 冲一 经久耐用 一 最大 限度 贴合 宠物 皮肤 一</td>\n",
       "    </tr>\n",
       "    <tr>\n",
       "      <th>4</th>\n",
       "      <td>1002997850</td>\n",
       "      <td>\"产品细节展示，(贴心设计只为更实用&gt;，[日本s，原料，BB，3霜新伙伴*，持续清爽不惧油光...</td>\n",
       "      <td>产品 细节 展示 贴心 设计 只为 更 实用 &gt; [ 日本 原料 霜 新 伙伴 持续 清爽 ...</td>\n",
       "    </tr>\n",
       "  </tbody>\n",
       "</table>\n",
       "</div>"
      ],
      "text/plain": [
       "           id                                                ocr  \\\n",
       "0  1001562100  l和美德，三贵miki轮椅MPTB-43JUS型，产品优点，摆脱传统轮椅笨重外观，实现最轻量...   \n",
       "1  1001769885  \"PRODUCT*SPECIEICATINS产品规格，UALITYC，EcOSTPi，IAN...   \n",
       "2  1002137536  语，盛果G，Nnique，O，曾今有一份真挚的感情放在我面前，我没有珍惜，直到失去了我才后悔...   \n",
       "3  1002517553              示德国，牵引装备，INGERN，一防爆冲一经久耐用一最大限度贴合宠物皮肤一   \n",
       "4  1002997850  \"产品细节展示，(贴心设计只为更实用>，[日本s，原料，BB，3霜新伙伴*，持续清爽不惧油光...   \n",
       "\n",
       "                                                text  \n",
       "0  和 美德 三贵 轮椅 - 型 产品 优点 摆脱 传统 轮椅 笨重 外观 实现 最 轻量化 的...  \n",
       "1  产品规格 天然 木刀座 人性化 斜切 角 插口 天然 木制 荚板 村质 高端 做工 精致 品...  \n",
       "2  语盛果 曾 今 有 一份 真挚 的 感情 放在 我 面前 我 没有 珍惜 直到 失去 了 我...  \n",
       "3         示 德国 牵引 装备 一 防爆 冲一 经久耐用 一 最大 限度 贴合 宠物 皮肤 一  \n",
       "4  产品 细节 展示 贴心 设计 只为 更 实用 > [ 日本 原料 霜 新 伙伴 持续 清爽 ...  "
      ]
     },
     "execution_count": 184,
     "metadata": {},
     "output_type": "execute_result"
    }
   ],
   "source": [
    "df_test.head()"
   ]
  },
  {
   "cell_type": "code",
   "execution_count": 185,
   "metadata": {},
   "outputs": [
    {
     "name": "stdout",
     "output_type": "stream",
     "text": [
      "80000 100000\n"
     ]
    }
   ],
   "source": [
    "train_x = list(df.ocr)\n",
    "test_x = list(df_test.ocr)\n",
    "all_x = train_x+test_x\n",
    "len_train = len(train_x)\n",
    "len_all = len(all_x)\n",
    "print(len_train,len_all)"
   ]
  },
  {
   "cell_type": "code",
   "execution_count": 186,
   "metadata": {
    "collapsed": true
   },
   "outputs": [],
   "source": [
    "from sklearn.feature_extraction.text import TfidfVectorizer\n",
    "tfidf = TfidfVectorizer(token_pattern=r\"(?u)\\b\\w+\\b\")\n",
    "tfidf.fit(all_x)\n",
    "all_xv = tfidf.transform(all_x)"
   ]
  },
  {
   "cell_type": "code",
   "execution_count": 187,
   "metadata": {
    "collapsed": true
   },
   "outputs": [],
   "source": [
    "train_xv = all_xv[:len_train]\n",
    "test_xv = all_xv[len_train:]\n",
    "y_train = list(df['label'])"
   ]
  },
  {
   "cell_type": "code",
   "execution_count": 188,
   "metadata": {
    "collapsed": true
   },
   "outputs": [],
   "source": [
    "from sklearn.linear_model import LogisticRegression\n",
    "from sklearn.ensemble import RandomForestClassifier"
   ]
  },
  {
   "cell_type": "code",
   "execution_count": 189,
   "metadata": {},
   "outputs": [
    {
     "name": "stderr",
     "output_type": "stream",
     "text": [
      "D:\\software\\anaconda\\envs\\pytorch\\lib\\site-packages\\sklearn\\linear_model\\logistic.py:433: FutureWarning: Default solver will be changed to 'lbfgs' in 0.22. Specify a solver to silence this warning.\n",
      "  FutureWarning)\n"
     ]
    }
   ],
   "source": [
    "lr = LogisticRegression(C=30)\n",
    "lr.fit(train_xv,y_train)\n",
    "result = lr.predict(test_xv)"
   ]
  },
  {
   "cell_type": "code",
   "execution_count": 192,
   "metadata": {
    "collapsed": true
   },
   "outputs": [],
   "source": [
    "result_lr = pd.DataFrame({'id':df_test['id'],'label':result})\n",
    "result_lr.to_csv(r'E:\\data\\guanggao-tf-idf.csv',encoding='utf-8',index=False)"
   ]
  },
  {
   "cell_type": "code",
   "execution_count": 194,
   "metadata": {},
   "outputs": [],
   "source": [
    "from sklearn.svm import LinearSVC\n",
    "svc = LinearSVC()\n",
    "svc.fit(train_xv,y_train)\n",
    "result = svc.predict(test_xv)\n",
    "result_svc = pd.DataFrame({'id':df_test['id'],'label':result})\n",
    "result_svc.to_csv(r'E:\\data\\guanggao-tf-svc-idf.csv',encoding='utf-8',index=False)"
   ]
  },
  {
   "cell_type": "code",
   "execution_count": null,
   "metadata": {
    "collapsed": true
   },
   "outputs": [],
   "source": []
  },
  {
   "cell_type": "code",
   "execution_count": null,
   "metadata": {
    "collapsed": true
   },
   "outputs": [],
   "source": []
  }
 ],
 "metadata": {
  "kernelspec": {
   "display_name": "Python [conda env:pytorch]",
   "language": "python",
   "name": "conda-env-pytorch-py"
  },
  "language_info": {
   "codemirror_mode": {
    "name": "ipython",
    "version": 3
   },
   "file_extension": ".py",
   "mimetype": "text/x-python",
   "name": "python",
   "nbconvert_exporter": "python",
   "pygments_lexer": "ipython3",
   "version": "3.6.2"
  }
 },
 "nbformat": 4,
 "nbformat_minor": 2
}
