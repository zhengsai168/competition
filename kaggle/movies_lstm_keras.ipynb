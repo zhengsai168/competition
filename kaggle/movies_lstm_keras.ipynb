{
 "cells": [
  {
   "cell_type": "code",
   "execution_count": 149,
   "metadata": {
    "collapsed": true
   },
   "outputs": [],
   "source": [
    "import sys\n",
    "import os\n",
    "import re\n",
    "import pandas as pd\n",
    "from torchnlp.datasets import imdb_dataset"
   ]
  },
  {
   "cell_type": "code",
   "execution_count": 150,
   "metadata": {
    "collapsed": true
   },
   "outputs": [],
   "source": [
    "data_path = r'E:\\kaggle\\movies'\n",
    "train_data_path = os.path.join(data_path,'labeledTrainData.tsv')\n",
    "test_data_path = os.path.join(data_path,'testData.tsv')"
   ]
  },
  {
   "cell_type": "code",
   "execution_count": 151,
   "metadata": {},
   "outputs": [
    {
     "data": {
      "text/plain": [
       "{'sentiment': 'pos',\n",
       " 'text': 'Bromwell High is a cartoon comedy. It ran at the same time as some other programs about school life, such as \"Teachers\". My 35 years in the teaching profession lead me to believe that Bromwell High\\'s satire is much closer to reality than is \"Teachers\". The scramble to survive financially, the insightful students who can see right through their pathetic teachers\\' pomp, the pettiness of the whole situation, all remind me of the schools I knew and their students. When I saw the episode in which a student repeatedly tried to burn down the school, I immediately recalled ......... at .......... High. A classic line: INSPECTOR: I\\'m here to sack one of your teachers. STUDENT: Welcome to Bromwell High. I expect that many adults of my age think that Bromwell High is far fetched. What a pity that it isn\\'t!'}"
      ]
     },
     "execution_count": 151,
     "metadata": {},
     "output_type": "execute_result"
    }
   ],
   "source": [
    "train = imdb_dataset(train=True)\n",
    "train[0]  # RETURNS: {'text': 'For a movie that gets..', 'sentiment': 'pos'}"
   ]
  },
  {
   "cell_type": "code",
   "execution_count": 152,
   "metadata": {},
   "outputs": [
    {
     "data": {
      "text/html": [
       "<div>\n",
       "<style scoped>\n",
       "    .dataframe tbody tr th:only-of-type {\n",
       "        vertical-align: middle;\n",
       "    }\n",
       "\n",
       "    .dataframe tbody tr th {\n",
       "        vertical-align: top;\n",
       "    }\n",
       "\n",
       "    .dataframe thead th {\n",
       "        text-align: right;\n",
       "    }\n",
       "</style>\n",
       "<table border=\"1\" class=\"dataframe\">\n",
       "  <thead>\n",
       "    <tr style=\"text-align: right;\">\n",
       "      <th></th>\n",
       "      <th>sentiment</th>\n",
       "      <th>text</th>\n",
       "    </tr>\n",
       "  </thead>\n",
       "  <tbody>\n",
       "    <tr>\n",
       "      <th>25000</th>\n",
       "      <td>pos</td>\n",
       "      <td>Bromwell High is a cartoon comedy. It ran at t...</td>\n",
       "    </tr>\n",
       "    <tr>\n",
       "      <th>25001</th>\n",
       "      <td>pos</td>\n",
       "      <td>Homelessness (or Houselessness as George Carli...</td>\n",
       "    </tr>\n",
       "    <tr>\n",
       "      <th>25002</th>\n",
       "      <td>pos</td>\n",
       "      <td>Brilliant over-acting by Lesley Ann Warren. Be...</td>\n",
       "    </tr>\n",
       "    <tr>\n",
       "      <th>25003</th>\n",
       "      <td>pos</td>\n",
       "      <td>This is easily the most underrated film inn th...</td>\n",
       "    </tr>\n",
       "    <tr>\n",
       "      <th>25004</th>\n",
       "      <td>pos</td>\n",
       "      <td>This is not the typical Mel Brooks film. It wa...</td>\n",
       "    </tr>\n",
       "  </tbody>\n",
       "</table>\n",
       "</div>"
      ],
      "text/plain": [
       "      sentiment                                               text\n",
       "25000       pos  Bromwell High is a cartoon comedy. It ran at t...\n",
       "25001       pos  Homelessness (or Houselessness as George Carli...\n",
       "25002       pos  Brilliant over-acting by Lesley Ann Warren. Be...\n",
       "25003       pos  This is easily the most underrated film inn th...\n",
       "25004       pos  This is not the typical Mel Brooks film. It wa..."
      ]
     },
     "execution_count": 152,
     "metadata": {},
     "output_type": "execute_result"
    }
   ],
   "source": [
    "import pandas as pd\n",
    "df_imdb = pd.DataFrame(list(train),index=range(25000,50000))\n",
    "df_imdb.head()"
   ]
  },
  {
   "cell_type": "code",
   "execution_count": 153,
   "metadata": {},
   "outputs": [
    {
     "data": {
      "text/html": [
       "<div>\n",
       "<style scoped>\n",
       "    .dataframe tbody tr th:only-of-type {\n",
       "        vertical-align: middle;\n",
       "    }\n",
       "\n",
       "    .dataframe tbody tr th {\n",
       "        vertical-align: top;\n",
       "    }\n",
       "\n",
       "    .dataframe thead th {\n",
       "        text-align: right;\n",
       "    }\n",
       "</style>\n",
       "<table border=\"1\" class=\"dataframe\">\n",
       "  <thead>\n",
       "    <tr style=\"text-align: right;\">\n",
       "      <th></th>\n",
       "      <th>sentiment</th>\n",
       "      <th>text</th>\n",
       "    </tr>\n",
       "  </thead>\n",
       "  <tbody>\n",
       "    <tr>\n",
       "      <th>25000</th>\n",
       "      <td>1</td>\n",
       "      <td>Bromwell High is a cartoon comedy. It ran at t...</td>\n",
       "    </tr>\n",
       "    <tr>\n",
       "      <th>25001</th>\n",
       "      <td>1</td>\n",
       "      <td>Homelessness (or Houselessness as George Carli...</td>\n",
       "    </tr>\n",
       "    <tr>\n",
       "      <th>25002</th>\n",
       "      <td>1</td>\n",
       "      <td>Brilliant over-acting by Lesley Ann Warren. Be...</td>\n",
       "    </tr>\n",
       "    <tr>\n",
       "      <th>25003</th>\n",
       "      <td>1</td>\n",
       "      <td>This is easily the most underrated film inn th...</td>\n",
       "    </tr>\n",
       "    <tr>\n",
       "      <th>25004</th>\n",
       "      <td>1</td>\n",
       "      <td>This is not the typical Mel Brooks film. It wa...</td>\n",
       "    </tr>\n",
       "  </tbody>\n",
       "</table>\n",
       "</div>"
      ],
      "text/plain": [
       "       sentiment                                               text\n",
       "25000          1  Bromwell High is a cartoon comedy. It ran at t...\n",
       "25001          1  Homelessness (or Houselessness as George Carli...\n",
       "25002          1  Brilliant over-acting by Lesley Ann Warren. Be...\n",
       "25003          1  This is easily the most underrated film inn th...\n",
       "25004          1  This is not the typical Mel Brooks film. It wa..."
      ]
     },
     "execution_count": 153,
     "metadata": {},
     "output_type": "execute_result"
    }
   ],
   "source": [
    "df_imdb['sentiment'] = df_imdb['sentiment'].map({'pos':1,'neg':0})\n",
    "df_imdb.head()"
   ]
  },
  {
   "cell_type": "code",
   "execution_count": 154,
   "metadata": {},
   "outputs": [
    {
     "data": {
      "text/html": [
       "<div>\n",
       "<style scoped>\n",
       "    .dataframe tbody tr th:only-of-type {\n",
       "        vertical-align: middle;\n",
       "    }\n",
       "\n",
       "    .dataframe tbody tr th {\n",
       "        vertical-align: top;\n",
       "    }\n",
       "\n",
       "    .dataframe thead th {\n",
       "        text-align: right;\n",
       "    }\n",
       "</style>\n",
       "<table border=\"1\" class=\"dataframe\">\n",
       "  <thead>\n",
       "    <tr style=\"text-align: right;\">\n",
       "      <th></th>\n",
       "      <th>sentiment</th>\n",
       "      <th>text</th>\n",
       "    </tr>\n",
       "  </thead>\n",
       "  <tbody>\n",
       "    <tr>\n",
       "      <th>0</th>\n",
       "      <td>1</td>\n",
       "      <td>With all this stuff going down at the moment w...</td>\n",
       "    </tr>\n",
       "    <tr>\n",
       "      <th>1</th>\n",
       "      <td>1</td>\n",
       "      <td>\\The Classic War of the Worlds\\\" by Timothy Hi...</td>\n",
       "    </tr>\n",
       "    <tr>\n",
       "      <th>2</th>\n",
       "      <td>0</td>\n",
       "      <td>The film starts with a manager (Nicholas Bell)...</td>\n",
       "    </tr>\n",
       "    <tr>\n",
       "      <th>3</th>\n",
       "      <td>0</td>\n",
       "      <td>It must be assumed that those who praised this...</td>\n",
       "    </tr>\n",
       "    <tr>\n",
       "      <th>4</th>\n",
       "      <td>1</td>\n",
       "      <td>Superbly trashy and wondrously unpretentious 8...</td>\n",
       "    </tr>\n",
       "  </tbody>\n",
       "</table>\n",
       "</div>"
      ],
      "text/plain": [
       "   sentiment                                               text\n",
       "0          1  With all this stuff going down at the moment w...\n",
       "1          1  \\The Classic War of the Worlds\\\" by Timothy Hi...\n",
       "2          0  The film starts with a manager (Nicholas Bell)...\n",
       "3          0  It must be assumed that those who praised this...\n",
       "4          1  Superbly trashy and wondrously unpretentious 8..."
      ]
     },
     "execution_count": 154,
     "metadata": {},
     "output_type": "execute_result"
    }
   ],
   "source": [
    "train_df = pd.read_csv(train_data_path,header=0,sep='\\t')\n",
    "train_df.rename(columns={'review':'text'},inplace=True)\n",
    "train_df = train_df.drop('id',axis=1)\n",
    "train_df.head()"
   ]
  },
  {
   "cell_type": "code",
   "execution_count": 155,
   "metadata": {},
   "outputs": [
    {
     "data": {
      "text/html": [
       "<div>\n",
       "<style scoped>\n",
       "    .dataframe tbody tr th:only-of-type {\n",
       "        vertical-align: middle;\n",
       "    }\n",
       "\n",
       "    .dataframe tbody tr th {\n",
       "        vertical-align: top;\n",
       "    }\n",
       "\n",
       "    .dataframe thead th {\n",
       "        text-align: right;\n",
       "    }\n",
       "</style>\n",
       "<table border=\"1\" class=\"dataframe\">\n",
       "  <thead>\n",
       "    <tr style=\"text-align: right;\">\n",
       "      <th></th>\n",
       "      <th>sentiment</th>\n",
       "      <th>text</th>\n",
       "    </tr>\n",
       "  </thead>\n",
       "  <tbody>\n",
       "    <tr>\n",
       "      <th>49995</th>\n",
       "      <td>0</td>\n",
       "      <td>Towards the end of the movie, I felt it was to...</td>\n",
       "    </tr>\n",
       "    <tr>\n",
       "      <th>49996</th>\n",
       "      <td>0</td>\n",
       "      <td>This is the kind of movie that my enemies cont...</td>\n",
       "    </tr>\n",
       "    <tr>\n",
       "      <th>49997</th>\n",
       "      <td>0</td>\n",
       "      <td>I saw 'Descent' last night at the Stockholm Fi...</td>\n",
       "    </tr>\n",
       "    <tr>\n",
       "      <th>49998</th>\n",
       "      <td>0</td>\n",
       "      <td>Some films that you pick up for a pound turn o...</td>\n",
       "    </tr>\n",
       "    <tr>\n",
       "      <th>49999</th>\n",
       "      <td>0</td>\n",
       "      <td>This is one of the dumbest films, I've ever se...</td>\n",
       "    </tr>\n",
       "  </tbody>\n",
       "</table>\n",
       "</div>"
      ],
      "text/plain": [
       "       sentiment                                               text\n",
       "49995          0  Towards the end of the movie, I felt it was to...\n",
       "49996          0  This is the kind of movie that my enemies cont...\n",
       "49997          0  I saw 'Descent' last night at the Stockholm Fi...\n",
       "49998          0  Some films that you pick up for a pound turn o...\n",
       "49999          0  This is one of the dumbest films, I've ever se..."
      ]
     },
     "execution_count": 155,
     "metadata": {},
     "output_type": "execute_result"
    }
   ],
   "source": [
    "x_df = pd.concat([train_df,df_imdb])\n",
    "x_df.head()\n",
    "x_df.tail()"
   ]
  },
  {
   "cell_type": "code",
   "execution_count": 156,
   "metadata": {},
   "outputs": [
    {
     "data": {
      "text/plain": [
       "\"With all this stuff going down at the moment with MJ i've started listening to his music, watching the odd documentary here and there, watched The Wiz and watched Moonwalker again. Maybe i just want to get a certain insight into this guy who i thought was really cool in the eighties just to maybe make up my mind whether he is guilty or innocent. Moonwalker is part biography, part feature film which i remember going to see at the cinema when it was originally released. Some of it has subtle messages about MJ's feeling towards the press and also the obvious message of drugs are bad m'kay.<br /><br />Visually impressive but of course this is all about Michael Jackson so unless you remotely like MJ in anyway then you are going to hate this and find it boring. Some may call MJ an egotist for consenting to the making of this movie BUT MJ and most of his fans would say that he made it for the fans which if true is really nice of him.<br /><br />The actual feature film bit when it finally starts is only on for 20 minutes or so excluding the Smooth Criminal sequence and Joe Pesci is convincing as a psychopathic all powerful drug lord. Why he wants MJ dead so bad is beyond me. Because MJ overheard his plans? Nah, Joe Pesci's character ranted that he wanted people to know it is he who is supplying drugs etc so i dunno, maybe he just hates MJ's music.<br /><br />Lots of cool things in this like MJ turning into a car and a robot and the whole Speed Demon sequence. Also, the director must have had the patience of a saint when it came to filming the kiddy Bad sequence as usually directors hate working with one kid let alone a whole bunch of them performing a complex dance scene.<br /><br />Bottom line, this movie is for people who like MJ on one level or another (which i think is most people). If not, then stay away. It does try and give off a wholesome message and ironically MJ's bestest buddy in this movie is a girl! Michael Jackson is truly one of the most talented people ever to grace this planet but is he guilty? Well, with all the attention i've gave this subject....hmmm well i don't know because people can be different behind closed doors, i know this for a fact. He is either an extremely nice but stupid guy or one of the most sickest liars. I hope he is not the latter.\""
      ]
     },
     "execution_count": 156,
     "metadata": {},
     "output_type": "execute_result"
    }
   ],
   "source": [
    "x_df['text'][0]"
   ]
  },
  {
   "cell_type": "code",
   "execution_count": 157,
   "metadata": {},
   "outputs": [
    {
     "data": {
      "text/html": [
       "<div>\n",
       "<style scoped>\n",
       "    .dataframe tbody tr th:only-of-type {\n",
       "        vertical-align: middle;\n",
       "    }\n",
       "\n",
       "    .dataframe tbody tr th {\n",
       "        vertical-align: top;\n",
       "    }\n",
       "\n",
       "    .dataframe thead th {\n",
       "        text-align: right;\n",
       "    }\n",
       "</style>\n",
       "<table border=\"1\" class=\"dataframe\">\n",
       "  <thead>\n",
       "    <tr style=\"text-align: right;\">\n",
       "      <th></th>\n",
       "      <th>sentiment</th>\n",
       "      <th>text</th>\n",
       "      <th>_text</th>\n",
       "    </tr>\n",
       "  </thead>\n",
       "  <tbody>\n",
       "    <tr>\n",
       "      <th>0</th>\n",
       "      <td>1</td>\n",
       "      <td>With all this stuff going down at the moment w...</td>\n",
       "      <td>stuff go moment mj ive start listen music watc...</td>\n",
       "    </tr>\n",
       "    <tr>\n",
       "      <th>1</th>\n",
       "      <td>1</td>\n",
       "      <td>\\The Classic War of the Worlds\\\" by Timothy Hi...</td>\n",
       "      <td>classic war world timothy hines entertain film...</td>\n",
       "    </tr>\n",
       "    <tr>\n",
       "      <th>2</th>\n",
       "      <td>0</td>\n",
       "      <td>The film starts with a manager (Nicholas Bell)...</td>\n",
       "      <td>film start manager nicholas bell give welcome ...</td>\n",
       "    </tr>\n",
       "    <tr>\n",
       "      <th>3</th>\n",
       "      <td>0</td>\n",
       "      <td>It must be assumed that those who praised this...</td>\n",
       "      <td>must assume praise film greatest film opera ev...</td>\n",
       "    </tr>\n",
       "    <tr>\n",
       "      <th>4</th>\n",
       "      <td>1</td>\n",
       "      <td>Superbly trashy and wondrously unpretentious 8...</td>\n",
       "      <td>superbly trashy wondrously unpretentious 80 ex...</td>\n",
       "    </tr>\n",
       "  </tbody>\n",
       "</table>\n",
       "</div>"
      ],
      "text/plain": [
       "   sentiment                                               text  \\\n",
       "0          1  With all this stuff going down at the moment w...   \n",
       "1          1  \\The Classic War of the Worlds\\\" by Timothy Hi...   \n",
       "2          0  The film starts with a manager (Nicholas Bell)...   \n",
       "3          0  It must be assumed that those who praised this...   \n",
       "4          1  Superbly trashy and wondrously unpretentious 8...   \n",
       "\n",
       "                                               _text  \n",
       "0  stuff go moment mj ive start listen music watc...  \n",
       "1  classic war world timothy hines entertain film...  \n",
       "2  film start manager nicholas bell give welcome ...  \n",
       "3  must assume praise film greatest film opera ev...  \n",
       "4  superbly trashy wondrously unpretentious 80 ex...  "
      ]
     },
     "execution_count": 157,
     "metadata": {},
     "output_type": "execute_result"
    }
   ],
   "source": [
    "import re\n",
    "from nltk.stem import WordNetLemmatizer\n",
    "from nltk.corpus import stopwords\n",
    "\n",
    "stop_words = set(stopwords.words(\"english\")) \n",
    "lemmatizer = WordNetLemmatizer()\n",
    "\n",
    "\n",
    "def clean_text(text):\n",
    "    text = re.sub(r'[^\\w\\s]','',text, re.UNICODE)\n",
    "    text = text.lower()\n",
    "    text = [lemmatizer.lemmatize(token) for token in text.split(\" \")]\n",
    "    # 单词变体还原 默认还原 'n' 名词\n",
    "    text = [lemmatizer.lemmatize(token, \"v\") for token in text]\n",
    "    # 'v' 还原动词  'a'  形容词   'r' 副词\n",
    "    text = [word for word in text if not word in stop_words]\n",
    "    text = \" \".join(text)\n",
    "    return text\n",
    "x_df['_text'] = x_df.text.apply(clean_text)\n",
    "x_df.head()"
   ]
  },
  {
   "cell_type": "code",
   "execution_count": 158,
   "metadata": {},
   "outputs": [
    {
     "data": {
      "text/plain": [
       "\"stuff go moment mj ive start listen music watch odd documentary watch wiz watch moonwalker maybe want get certain insight guy think wa really cool eighty maybe make mind whether guilty innocent moonwalker part biography part feature film remember go see cinema wa originally release ha subtle message mjs feel towards press also obvious message drug bad mkaybr br visually impressive course michael jackson unless remotely like mj anyway go hate find bore may call mj egotist consent make movie mj fan would say make fan true really nice himbr br actual feature film bite finally start 20 minute exclude smooth criminal sequence joe pesci convince psychopathic powerful drug lord want mj dead bad beyond mj overhear plan nah joe pescis character rant want people know supply drug etc dunno maybe hate mjs music<br /><br />lots cool thing like mj turn car robot whole speed demon sequence. also, director must patience saint come film kiddy bad sequence usually director hate work one kid let alone whole bunch perform complex dance scene.<br /><br />bottom line, movie people like mj one level another (which think people). not, stay away. doe try give wholesome message ironically mj's bestest buddy movie girl! michael jackson truly one talented people ever grace planet guilty? well, attention i've give subject....hmmm well know people different behind close doors, know fact. either extremely nice stupid guy one sickest liars. hope latter.\""
      ]
     },
     "execution_count": 158,
     "metadata": {},
     "output_type": "execute_result"
    }
   ],
   "source": [
    "x_df._text[0]"
   ]
  },
  {
   "cell_type": "code",
   "execution_count": 159,
   "metadata": {},
   "outputs": [
    {
     "data": {
      "text/plain": [
       "50000"
      ]
     },
     "execution_count": 159,
     "metadata": {},
     "output_type": "execute_result"
    }
   ],
   "source": [
    "from keras.preprocessing.text import Tokenizer\n",
    "from keras.preprocessing.sequence import pad_sequences\n",
    "\n",
    "max_features = 6000\n",
    "tokenizer = Tokenizer(num_words=max_features)\n",
    "tokenizer.fit_on_texts(x_df['_text'])\n",
    "list_token_train = tokenizer.texts_to_sequences(x_df['_text'])\n",
    "len(list_token_train)"
   ]
  },
  {
   "cell_type": "code",
   "execution_count": 160,
   "metadata": {},
   "outputs": [
    {
     "data": {
      "text/plain": [
       "129.51444"
      ]
     },
     "execution_count": 160,
     "metadata": {},
     "output_type": "execute_result"
    }
   ],
   "source": [
    "x_df._text.apply(lambda x:len(x.split(\" \"))).mean()"
   ]
  },
  {
   "cell_type": "code",
   "execution_count": 161,
   "metadata": {},
   "outputs": [
    {
     "name": "stdout",
     "output_type": "stream",
     "text": [
      "(50000, 130)\n"
     ]
    },
    {
     "data": {
      "text/plain": [
       "50000"
      ]
     },
     "execution_count": 161,
     "metadata": {},
     "output_type": "execute_result"
    }
   ],
   "source": [
    "maxlen = 130\n",
    "X_t = pad_sequences(list_token_train,maxlen=maxlen)\n",
    "print(X_t.shape)\n",
    "y = x_df['sentiment']\n",
    "len(y)"
   ]
  },
  {
   "cell_type": "code",
   "execution_count": 162,
   "metadata": {},
   "outputs": [
    {
     "name": "stdout",
     "output_type": "stream",
     "text": [
      "_________________________________________________________________\n",
      "Layer (type)                 Output Shape              Param #   \n",
      "=================================================================\n",
      "embedding_7 (Embedding)      (None, None, 300)         1800000   \n",
      "_________________________________________________________________\n",
      "bidirectional_7 (Bidirection (None, 512)               1140736   \n",
      "_________________________________________________________________\n",
      "dense_13 (Dense)             (None, 20)                10260     \n",
      "_________________________________________________________________\n",
      "dropout_7 (Dropout)          (None, 20)                0         \n",
      "_________________________________________________________________\n",
      "dense_14 (Dense)             (None, 1)                 21        \n",
      "=================================================================\n",
      "Total params: 2,951,017\n",
      "Trainable params: 2,951,017\n",
      "Non-trainable params: 0\n",
      "_________________________________________________________________\n",
      "None\n",
      "Train on 45000 samples, validate on 5000 samples\n",
      "Epoch 1/3\n"
     ]
    },
    {
     "name": "stdout",
     "output_type": "stream",
     "text": [
      "20400/45000 [============>.................] - ETA: 58:00 - loss: 0.6932 - acc: 0.47 - ETA: 35:08 - loss: 0.6897 - acc: 0.51 - ETA: 27:37 - loss: 0.6942 - acc: 0.49 - ETA: 23:51 - loss: 0.6958 - acc: 0.49 - ETA: 21:26 - loss: 0.6942 - acc: 0.50 - ETA: 19:53 - loss: 0.6940 - acc: 0.50 - ETA: 18:44 - loss: 0.6925 - acc: 0.52 - ETA: 17:54 - loss: 0.6914 - acc: 0.52 - ETA: 17:16 - loss: 0.6903 - acc: 0.53 - ETA: 16:43 - loss: 0.6883 - acc: 0.54 - ETA: 16:18 - loss: 0.6880 - acc: 0.54 - ETA: 15:54 - loss: 0.6863 - acc: 0.54 - ETA: 15:33 - loss: 0.6865 - acc: 0.54 - ETA: 15:17 - loss: 0.6852 - acc: 0.54 - ETA: 15:02 - loss: 0.6888 - acc: 0.54 - ETA: 14:49 - loss: 0.6907 - acc: 0.53 - ETA: 14:39 - loss: 0.6904 - acc: 0.53 - ETA: 14:29 - loss: 0.6901 - acc: 0.53 - ETA: 14:22 - loss: 0.6893 - acc: 0.53 - ETA: 14:16 - loss: 0.6889 - acc: 0.54 - ETA: 14:09 - loss: 0.6884 - acc: 0.54 - ETA: 14:04 - loss: 0.6876 - acc: 0.55 - ETA: 13:59 - loss: 0.6868 - acc: 0.55 - ETA: 13:56 - loss: 0.6866 - acc: 0.56 - ETA: 13:53 - loss: 0.6861 - acc: 0.56 - ETA: 13:49 - loss: 0.6847 - acc: 0.57 - ETA: 13:46 - loss: 0.6835 - acc: 0.57 - ETA: 13:42 - loss: 0.6816 - acc: 0.58 - ETA: 13:38 - loss: 0.6799 - acc: 0.58 - ETA: 13:35 - loss: 0.6757 - acc: 0.59 - ETA: 13:31 - loss: 0.6760 - acc: 0.59 - ETA: 13:28 - loss: 0.6730 - acc: 0.59 - ETA: 13:25 - loss: 0.6694 - acc: 0.60 - ETA: 13:22 - loss: 0.6657 - acc: 0.60 - ETA: 13:19 - loss: 0.6631 - acc: 0.61 - ETA: 13:17 - loss: 0.6606 - acc: 0.61 - ETA: 13:15 - loss: 0.6578 - acc: 0.61 - ETA: 13:12 - loss: 0.6544 - acc: 0.62 - ETA: 13:08 - loss: 0.6504 - acc: 0.62 - ETA: 13:06 - loss: 0.6478 - acc: 0.63 - ETA: 13:04 - loss: 0.6443 - acc: 0.63 - ETA: 13:01 - loss: 0.6392 - acc: 0.63 - ETA: 12:59 - loss: 0.6412 - acc: 0.64 - ETA: 12:56 - loss: 0.6363 - acc: 0.64 - ETA: 12:54 - loss: 0.6346 - acc: 0.64 - ETA: 12:51 - loss: 0.6328 - acc: 0.64 - ETA: 12:49 - loss: 0.6294 - acc: 0.65 - ETA: 12:46 - loss: 0.6288 - acc: 0.65 - ETA: 12:44 - loss: 0.6278 - acc: 0.65 - ETA: 12:42 - loss: 0.6256 - acc: 0.65 - ETA: 12:40 - loss: 0.6243 - acc: 0.65 - ETA: 12:37 - loss: 0.6224 - acc: 0.65 - ETA: 12:34 - loss: 0.6210 - acc: 0.65 - ETA: 12:32 - loss: 0.6192 - acc: 0.66 - ETA: 12:30 - loss: 0.6172 - acc: 0.66 - ETA: 12:28 - loss: 0.6152 - acc: 0.66 - ETA: 12:27 - loss: 0.6137 - acc: 0.66 - ETA: 12:27 - loss: 0.6123 - acc: 0.66 - ETA: 12:27 - loss: 0.6115 - acc: 0.66 - ETA: 12:27 - loss: 0.6099 - acc: 0.66 - ETA: 12:27 - loss: 0.6079 - acc: 0.67 - ETA: 12:26 - loss: 0.6059 - acc: 0.67 - ETA: 12:25 - loss: 0.6049 - acc: 0.67 - ETA: 12:23 - loss: 0.6025 - acc: 0.67 - ETA: 12:21 - loss: 0.6006 - acc: 0.67 - ETA: 12:20 - loss: 0.5982 - acc: 0.68 - ETA: 12:18 - loss: 0.5962 - acc: 0.68 - ETA: 12:16 - loss: 0.5935 - acc: 0.68 - ETA: 12:14 - loss: 0.5910 - acc: 0.68 - ETA: 12:13 - loss: 0.5874 - acc: 0.68 - ETA: 12:11 - loss: 0.5837 - acc: 0.69 - ETA: 12:09 - loss: 0.5824 - acc: 0.69 - ETA: 12:07 - loss: 0.5835 - acc: 0.69 - ETA: 12:06 - loss: 0.5813 - acc: 0.69 - ETA: 12:04 - loss: 0.5807 - acc: 0.69 - ETA: 12:02 - loss: 0.5781 - acc: 0.69 - ETA: 12:00 - loss: 0.5749 - acc: 0.69 - ETA: 11:58 - loss: 0.5728 - acc: 0.69 - ETA: 11:56 - loss: 0.5697 - acc: 0.70 - ETA: 11:54 - loss: 0.5678 - acc: 0.70 - ETA: 11:52 - loss: 0.5650 - acc: 0.70 - ETA: 11:50 - loss: 0.5621 - acc: 0.70 - ETA: 11:48 - loss: 0.5594 - acc: 0.70 - ETA: 11:47 - loss: 0.5559 - acc: 0.71 - ETA: 11:45 - loss: 0.5551 - acc: 0.71 - ETA: 11:43 - loss: 0.5527 - acc: 0.71 - ETA: 11:41 - loss: 0.5499 - acc: 0.71 - ETA: 11:40 - loss: 0.5481 - acc: 0.71 - ETA: 11:39 - loss: 0.5463 - acc: 0.71 - ETA: 11:37 - loss: 0.5441 - acc: 0.71 - ETA: 11:36 - loss: 0.5428 - acc: 0.72 - ETA: 11:35 - loss: 0.5404 - acc: 0.72 - ETA: 11:33 - loss: 0.5389 - acc: 0.72 - ETA: 11:32 - loss: 0.5379 - acc: 0.72 - ETA: 11:30 - loss: 0.5353 - acc: 0.72 - ETA: 11:28 - loss: 0.5334 - acc: 0.72 - ETA: 11:26 - loss: 0.5314 - acc: 0.72 - ETA: 11:25 - loss: 0.5304 - acc: 0.72 - ETA: 11:23 - loss: 0.5282 - acc: 0.73 - ETA: 11:22 - loss: 0.5261 - acc: 0.73 - ETA: 11:21 - loss: 0.5241 - acc: 0.73 - ETA: 11:19 - loss: 0.5219 - acc: 0.73 - ETA: 11:17 - loss: 0.5196 - acc: 0.73 - ETA: 11:15 - loss: 0.5194 - acc: 0.73 - ETA: 11:13 - loss: 0.5176 - acc: 0.73 - ETA: 11:11 - loss: 0.5162 - acc: 0.73 - ETA: 11:09 - loss: 0.5140 - acc: 0.74 - ETA: 11:07 - loss: 0.5121 - acc: 0.74 - ETA: 11:05 - loss: 0.5103 - acc: 0.74 - ETA: 11:03 - loss: 0.5078 - acc: 0.74 - ETA: 11:01 - loss: 0.5071 - acc: 0.74 - ETA: 10:59 - loss: 0.5046 - acc: 0.74 - ETA: 10:57 - loss: 0.5036 - acc: 0.74 - ETA: 10:55 - loss: 0.5017 - acc: 0.74 - ETA: 10:54 - loss: 0.5007 - acc: 0.74 - ETA: 10:53 - loss: 0.4986 - acc: 0.75 - ETA: 10:52 - loss: 0.4971 - acc: 0.75 - ETA: 10:52 - loss: 0.4953 - acc: 0.75 - ETA: 10:50 - loss: 0.4930 - acc: 0.75 - ETA: 10:49 - loss: 0.4916 - acc: 0.75 - ETA: 10:47 - loss: 0.4909 - acc: 0.75 - ETA: 10:45 - loss: 0.4893 - acc: 0.75 - ETA: 10:43 - loss: 0.4876 - acc: 0.75 - ETA: 10:41 - loss: 0.4865 - acc: 0.75 - ETA: 10:40 - loss: 0.4849 - acc: 0.75 - ETA: 10:38 - loss: 0.4836 - acc: 0.75 - ETA: 10:36 - loss: 0.4818 - acc: 0.76 - ETA: 10:34 - loss: 0.4803 - acc: 0.76 - ETA: 10:32 - loss: 0.4788 - acc: 0.76 - ETA: 10:30 - loss: 0.4770 - acc: 0.76 - ETA: 10:28 - loss: 0.4761 - acc: 0.76 - ETA: 10:27 - loss: 0.4748 - acc: 0.76 - ETA: 10:25 - loss: 0.4742 - acc: 0.76 - ETA: 10:23 - loss: 0.4732 - acc: 0.76 - ETA: 10:22 - loss: 0.4728 - acc: 0.76 - ETA: 10:20 - loss: 0.4726 - acc: 0.76 - ETA: 10:18 - loss: 0.4723 - acc: 0.76 - ETA: 10:16 - loss: 0.4709 - acc: 0.76 - ETA: 10:14 - loss: 0.4702 - acc: 0.76 - ETA: 10:12 - loss: 0.4693 - acc: 0.76 - ETA: 10:11 - loss: 0.4681 - acc: 0.76 - ETA: 10:09 - loss: 0.4673 - acc: 0.77 - ETA: 10:08 - loss: 0.4659 - acc: 0.77 - ETA: 10:06 - loss: 0.4643 - acc: 0.77 - ETA: 10:04 - loss: 0.4635 - acc: 0.77 - ETA: 10:02 - loss: 0.4628 - acc: 0.77 - ETA: 10:00 - loss: 0.4616 - acc: 0.77 - ETA: 9:58 - loss: 0.4601 - acc: 0.7756 - ETA: 9:56 - loss: 0.4588 - acc: 0.776 - ETA: 9:54 - loss: 0.4584 - acc: 0.776 - ETA: 9:53 - loss: 0.4572 - acc: 0.777 - ETA: 9:52 - loss: 0.4561 - acc: 0.778 - ETA: 9:50 - loss: 0.4551 - acc: 0.779 - ETA: 9:48 - loss: 0.4537 - acc: 0.779 - ETA: 9:46 - loss: 0.4525 - acc: 0.780 - ETA: 9:44 - loss: 0.4521 - acc: 0.780 - ETA: 9:42 - loss: 0.4507 - acc: 0.781 - ETA: 9:40 - loss: 0.4497 - acc: 0.782 - ETA: 9:38 - loss: 0.4482 - acc: 0.783 - ETA: 9:37 - loss: 0.4474 - acc: 0.783 - ETA: 9:36 - loss: 0.4464 - acc: 0.784 - ETA: 9:34 - loss: 0.4456 - acc: 0.784 - ETA: 9:32 - loss: 0.4442 - acc: 0.785 - ETA: 9:30 - loss: 0.4436 - acc: 0.786 - ETA: 9:28 - loss: 0.4424 - acc: 0.786 - ETA: 9:26 - loss: 0.4416 - acc: 0.787 - ETA: 9:24 - loss: 0.4407 - acc: 0.787 - ETA: 9:23 - loss: 0.4399 - acc: 0.788 - ETA: 9:21 - loss: 0.4396 - acc: 0.788 - ETA: 9:19 - loss: 0.4387 - acc: 0.789 - ETA: 9:17 - loss: 0.4378 - acc: 0.789 - ETA: 9:15 - loss: 0.4363 - acc: 0.790 - ETA: 9:14 - loss: 0.4365 - acc: 0.791 - ETA: 9:12 - loss: 0.4357 - acc: 0.791 - ETA: 9:10 - loss: 0.4348 - acc: 0.792 - ETA: 9:09 - loss: 0.4341 - acc: 0.792 - ETA: 9:07 - loss: 0.4333 - acc: 0.793 - ETA: 9:05 - loss: 0.4328 - acc: 0.793 - ETA: 9:04 - loss: 0.4320 - acc: 0.793 - ETA: 9:03 - loss: 0.4312 - acc: 0.794 - ETA: 9:01 - loss: 0.4307 - acc: 0.794 - ETA: 8:59 - loss: 0.4303 - acc: 0.794 - ETA: 8:57 - loss: 0.4301 - acc: 0.794 - ETA: 8:55 - loss: 0.4299 - acc: 0.795 - ETA: 8:53 - loss: 0.4292 - acc: 0.795 - ETA: 8:51 - loss: 0.4287 - acc: 0.795 - ETA: 8:49 - loss: 0.4277 - acc: 0.796 - ETA: 8:47 - loss: 0.4268 - acc: 0.796 - ETA: 8:44 - loss: 0.4264 - acc: 0.797 - ETA: 8:42 - loss: 0.4256 - acc: 0.797 - ETA: 8:40 - loss: 0.4246 - acc: 0.798 - ETA: 8:38 - loss: 0.4236 - acc: 0.798 - ETA: 8:36 - loss: 0.4231 - acc: 0.799 - ETA: 8:34 - loss: 0.4223 - acc: 0.799 - ETA: 8:32 - loss: 0.4216 - acc: 0.800 - ETA: 8:30 - loss: 0.4209 - acc: 0.800 - ETA: 8:28 - loss: 0.4200 - acc: 0.801 - ETA: 8:26 - loss: 0.4192 - acc: 0.801 - ETA: 8:24 - loss: 0.4186 - acc: 0.802 - ETA: 8:22 - loss: 0.4175 - acc: 0.802 - ETA: 8:20 - loss: 0.4164 - acc: 0.803 - ETA: 8:18 - loss: 0.4158 - acc: 0.803 - ETA: 8:17 - loss: 0.4149 - acc: 0.804 - ETA: 8:15 - loss: 0.4148 - acc: 0.8045"
     ]
    },
    {
     "name": "stdout",
     "output_type": "stream",
     "text": [
      "40800/45000 [==========================>...] - ETA: 8:13 - loss: 0.4144 - acc: 0.805 - ETA: 8:11 - loss: 0.4134 - acc: 0.805 - ETA: 8:09 - loss: 0.4127 - acc: 0.805 - ETA: 8:07 - loss: 0.4122 - acc: 0.806 - ETA: 8:05 - loss: 0.4113 - acc: 0.806 - ETA: 8:03 - loss: 0.4107 - acc: 0.807 - ETA: 8:00 - loss: 0.4103 - acc: 0.807 - ETA: 7:58 - loss: 0.4096 - acc: 0.808 - ETA: 7:56 - loss: 0.4094 - acc: 0.808 - ETA: 7:54 - loss: 0.4088 - acc: 0.808 - ETA: 7:52 - loss: 0.4084 - acc: 0.808 - ETA: 7:50 - loss: 0.4081 - acc: 0.809 - ETA: 7:48 - loss: 0.4072 - acc: 0.809 - ETA: 7:46 - loss: 0.4067 - acc: 0.809 - ETA: 7:44 - loss: 0.4064 - acc: 0.810 - ETA: 7:42 - loss: 0.4057 - acc: 0.810 - ETA: 7:40 - loss: 0.4050 - acc: 0.810 - ETA: 7:38 - loss: 0.4046 - acc: 0.811 - ETA: 7:36 - loss: 0.4039 - acc: 0.811 - ETA: 7:34 - loss: 0.4032 - acc: 0.811 - ETA: 7:32 - loss: 0.4024 - acc: 0.812 - ETA: 7:30 - loss: 0.4018 - acc: 0.812 - ETA: 7:28 - loss: 0.4013 - acc: 0.813 - ETA: 7:26 - loss: 0.4005 - acc: 0.813 - ETA: 7:24 - loss: 0.4002 - acc: 0.813 - ETA: 7:22 - loss: 0.3998 - acc: 0.814 - ETA: 7:20 - loss: 0.3994 - acc: 0.814 - ETA: 7:18 - loss: 0.3984 - acc: 0.815 - ETA: 7:16 - loss: 0.3977 - acc: 0.815 - ETA: 7:14 - loss: 0.3971 - acc: 0.815 - ETA: 7:12 - loss: 0.3965 - acc: 0.816 - ETA: 7:10 - loss: 0.3961 - acc: 0.816 - ETA: 7:08 - loss: 0.3958 - acc: 0.816 - ETA: 7:06 - loss: 0.3956 - acc: 0.816 - ETA: 7:04 - loss: 0.3950 - acc: 0.817 - ETA: 7:02 - loss: 0.3942 - acc: 0.817 - ETA: 7:00 - loss: 0.3940 - acc: 0.817 - ETA: 6:58 - loss: 0.3931 - acc: 0.818 - ETA: 6:56 - loss: 0.3931 - acc: 0.818 - ETA: 6:54 - loss: 0.3925 - acc: 0.818 - ETA: 6:52 - loss: 0.3921 - acc: 0.819 - ETA: 6:50 - loss: 0.3919 - acc: 0.819 - ETA: 6:48 - loss: 0.3911 - acc: 0.819 - ETA: 6:46 - loss: 0.3909 - acc: 0.819 - ETA: 6:44 - loss: 0.3907 - acc: 0.819 - ETA: 6:43 - loss: 0.3904 - acc: 0.819 - ETA: 6:41 - loss: 0.3900 - acc: 0.820 - ETA: 6:39 - loss: 0.3897 - acc: 0.820 - ETA: 6:37 - loss: 0.3892 - acc: 0.820 - ETA: 6:35 - loss: 0.3891 - acc: 0.820 - ETA: 6:33 - loss: 0.3888 - acc: 0.821 - ETA: 6:31 - loss: 0.3885 - acc: 0.821 - ETA: 6:29 - loss: 0.3878 - acc: 0.821 - ETA: 6:27 - loss: 0.3877 - acc: 0.822 - ETA: 6:25 - loss: 0.3878 - acc: 0.822 - ETA: 6:23 - loss: 0.3874 - acc: 0.822 - ETA: 6:22 - loss: 0.3869 - acc: 0.822 - ETA: 6:20 - loss: 0.3862 - acc: 0.823 - ETA: 6:18 - loss: 0.3858 - acc: 0.823 - ETA: 6:16 - loss: 0.3853 - acc: 0.823 - ETA: 6:14 - loss: 0.3847 - acc: 0.823 - ETA: 6:12 - loss: 0.3839 - acc: 0.824 - ETA: 6:10 - loss: 0.3838 - acc: 0.824 - ETA: 6:08 - loss: 0.3834 - acc: 0.824 - ETA: 6:06 - loss: 0.3831 - acc: 0.824 - ETA: 6:04 - loss: 0.3828 - acc: 0.825 - ETA: 6:02 - loss: 0.3824 - acc: 0.825 - ETA: 6:00 - loss: 0.3825 - acc: 0.825 - ETA: 5:58 - loss: 0.3821 - acc: 0.825 - ETA: 5:56 - loss: 0.3817 - acc: 0.825 - ETA: 5:54 - loss: 0.3813 - acc: 0.826 - ETA: 5:52 - loss: 0.3809 - acc: 0.826 - ETA: 5:50 - loss: 0.3802 - acc: 0.826 - ETA: 5:48 - loss: 0.3800 - acc: 0.826 - ETA: 5:46 - loss: 0.3795 - acc: 0.826 - ETA: 5:45 - loss: 0.3789 - acc: 0.827 - ETA: 5:43 - loss: 0.3785 - acc: 0.827 - ETA: 5:41 - loss: 0.3778 - acc: 0.827 - ETA: 5:39 - loss: 0.3776 - acc: 0.828 - ETA: 5:37 - loss: 0.3774 - acc: 0.828 - ETA: 5:35 - loss: 0.3772 - acc: 0.828 - ETA: 5:33 - loss: 0.3769 - acc: 0.828 - ETA: 5:31 - loss: 0.3764 - acc: 0.829 - ETA: 5:29 - loss: 0.3757 - acc: 0.829 - ETA: 5:27 - loss: 0.3751 - acc: 0.829 - ETA: 5:25 - loss: 0.3748 - acc: 0.830 - ETA: 5:23 - loss: 0.3744 - acc: 0.830 - ETA: 5:21 - loss: 0.3736 - acc: 0.830 - ETA: 5:19 - loss: 0.3733 - acc: 0.830 - ETA: 5:17 - loss: 0.3727 - acc: 0.831 - ETA: 5:15 - loss: 0.3722 - acc: 0.831 - ETA: 5:13 - loss: 0.3718 - acc: 0.831 - ETA: 5:11 - loss: 0.3717 - acc: 0.831 - ETA: 5:09 - loss: 0.3715 - acc: 0.831 - ETA: 5:07 - loss: 0.3714 - acc: 0.832 - ETA: 5:05 - loss: 0.3711 - acc: 0.832 - ETA: 5:03 - loss: 0.3705 - acc: 0.832 - ETA: 5:01 - loss: 0.3699 - acc: 0.832 - ETA: 4:59 - loss: 0.3695 - acc: 0.833 - ETA: 4:57 - loss: 0.3695 - acc: 0.833 - ETA: 4:55 - loss: 0.3697 - acc: 0.833 - ETA: 4:53 - loss: 0.3694 - acc: 0.833 - ETA: 4:51 - loss: 0.3688 - acc: 0.833 - ETA: 4:49 - loss: 0.3684 - acc: 0.834 - ETA: 4:47 - loss: 0.3679 - acc: 0.834 - ETA: 4:45 - loss: 0.3675 - acc: 0.834 - ETA: 4:43 - loss: 0.3674 - acc: 0.834 - ETA: 4:41 - loss: 0.3674 - acc: 0.834 - ETA: 4:39 - loss: 0.3670 - acc: 0.835 - ETA: 4:37 - loss: 0.3665 - acc: 0.835 - ETA: 4:34 - loss: 0.3661 - acc: 0.835 - ETA: 4:32 - loss: 0.3653 - acc: 0.835 - ETA: 4:30 - loss: 0.3650 - acc: 0.836 - ETA: 4:28 - loss: 0.3644 - acc: 0.836 - ETA: 4:26 - loss: 0.3643 - acc: 0.836 - ETA: 4:24 - loss: 0.3640 - acc: 0.836 - ETA: 4:22 - loss: 0.3633 - acc: 0.837 - ETA: 4:20 - loss: 0.3628 - acc: 0.837 - ETA: 4:18 - loss: 0.3625 - acc: 0.837 - ETA: 4:16 - loss: 0.3623 - acc: 0.837 - ETA: 4:14 - loss: 0.3620 - acc: 0.837 - ETA: 4:12 - loss: 0.3616 - acc: 0.838 - ETA: 4:10 - loss: 0.3614 - acc: 0.838 - ETA: 4:08 - loss: 0.3610 - acc: 0.838 - ETA: 4:06 - loss: 0.3608 - acc: 0.838 - ETA: 4:03 - loss: 0.3609 - acc: 0.838 - ETA: 4:01 - loss: 0.3605 - acc: 0.838 - ETA: 3:59 - loss: 0.3600 - acc: 0.839 - ETA: 3:57 - loss: 0.3604 - acc: 0.839 - ETA: 3:55 - loss: 0.3601 - acc: 0.839 - ETA: 3:53 - loss: 0.3598 - acc: 0.839 - ETA: 3:51 - loss: 0.3596 - acc: 0.839 - ETA: 3:49 - loss: 0.3593 - acc: 0.839 - ETA: 3:47 - loss: 0.3592 - acc: 0.839 - ETA: 3:45 - loss: 0.3588 - acc: 0.839 - ETA: 3:43 - loss: 0.3587 - acc: 0.839 - ETA: 3:41 - loss: 0.3587 - acc: 0.840 - ETA: 3:39 - loss: 0.3580 - acc: 0.840 - ETA: 3:37 - loss: 0.3578 - acc: 0.840 - ETA: 3:35 - loss: 0.3572 - acc: 0.840 - ETA: 3:33 - loss: 0.3569 - acc: 0.841 - ETA: 3:31 - loss: 0.3569 - acc: 0.841 - ETA: 3:29 - loss: 0.3568 - acc: 0.841 - ETA: 3:26 - loss: 0.3563 - acc: 0.841 - ETA: 3:24 - loss: 0.3560 - acc: 0.841 - ETA: 3:22 - loss: 0.3559 - acc: 0.841 - ETA: 3:20 - loss: 0.3559 - acc: 0.841 - ETA: 3:18 - loss: 0.3555 - acc: 0.841 - ETA: 3:16 - loss: 0.3551 - acc: 0.842 - ETA: 3:14 - loss: 0.3549 - acc: 0.842 - ETA: 3:12 - loss: 0.3545 - acc: 0.842 - ETA: 3:10 - loss: 0.3541 - acc: 0.842 - ETA: 3:08 - loss: 0.3540 - acc: 0.842 - ETA: 3:06 - loss: 0.3536 - acc: 0.842 - ETA: 3:04 - loss: 0.3533 - acc: 0.842 - ETA: 3:02 - loss: 0.3530 - acc: 0.843 - ETA: 3:00 - loss: 0.3525 - acc: 0.843 - ETA: 2:58 - loss: 0.3523 - acc: 0.843 - ETA: 2:56 - loss: 0.3521 - acc: 0.843 - ETA: 2:54 - loss: 0.3517 - acc: 0.843 - ETA: 2:52 - loss: 0.3515 - acc: 0.843 - ETA: 2:50 - loss: 0.3512 - acc: 0.844 - ETA: 2:48 - loss: 0.3508 - acc: 0.844 - ETA: 2:46 - loss: 0.3508 - acc: 0.844 - ETA: 2:44 - loss: 0.3509 - acc: 0.844 - ETA: 2:42 - loss: 0.3507 - acc: 0.844 - ETA: 2:39 - loss: 0.3502 - acc: 0.844 - ETA: 2:37 - loss: 0.3497 - acc: 0.845 - ETA: 2:35 - loss: 0.3495 - acc: 0.845 - ETA: 2:33 - loss: 0.3493 - acc: 0.845 - ETA: 2:31 - loss: 0.3490 - acc: 0.845 - ETA: 2:29 - loss: 0.3486 - acc: 0.845 - ETA: 2:27 - loss: 0.3484 - acc: 0.845 - ETA: 2:25 - loss: 0.3481 - acc: 0.845 - ETA: 2:23 - loss: 0.3479 - acc: 0.846 - ETA: 2:21 - loss: 0.3475 - acc: 0.846 - ETA: 2:19 - loss: 0.3473 - acc: 0.846 - ETA: 2:17 - loss: 0.3471 - acc: 0.846 - ETA: 2:15 - loss: 0.3467 - acc: 0.846 - ETA: 2:13 - loss: 0.3464 - acc: 0.846 - ETA: 2:11 - loss: 0.3458 - acc: 0.847 - ETA: 2:09 - loss: 0.3457 - acc: 0.847 - ETA: 2:07 - loss: 0.3455 - acc: 0.847 - ETA: 2:05 - loss: 0.3450 - acc: 0.847 - ETA: 2:03 - loss: 0.3445 - acc: 0.847 - ETA: 2:01 - loss: 0.3442 - acc: 0.847 - ETA: 1:59 - loss: 0.3440 - acc: 0.848 - ETA: 1:57 - loss: 0.3438 - acc: 0.848 - ETA: 1:55 - loss: 0.3437 - acc: 0.848 - ETA: 1:53 - loss: 0.3433 - acc: 0.848 - ETA: 1:51 - loss: 0.3429 - acc: 0.848 - ETA: 1:49 - loss: 0.3429 - acc: 0.848 - ETA: 1:47 - loss: 0.3426 - acc: 0.849 - ETA: 1:45 - loss: 0.3422 - acc: 0.849 - ETA: 1:43 - loss: 0.3419 - acc: 0.849 - ETA: 1:41 - loss: 0.3417 - acc: 0.849 - ETA: 1:39 - loss: 0.3415 - acc: 0.849 - ETA: 1:37 - loss: 0.3411 - acc: 0.849 - ETA: 1:35 - loss: 0.3409 - acc: 0.849 - ETA: 1:33 - loss: 0.3408 - acc: 0.849 - ETA: 1:31 - loss: 0.3405 - acc: 0.850 - ETA: 1:29 - loss: 0.3403 - acc: 0.850 - ETA: 1:27 - loss: 0.3400 - acc: 0.850 - ETA: 1:25 - loss: 0.3397 - acc: 0.8506"
     ]
    },
    {
     "name": "stdout",
     "output_type": "stream",
     "text": [
      "45000/45000 [==============================] - ETA: 1:23 - loss: 0.3393 - acc: 0.850 - ETA: 1:21 - loss: 0.3390 - acc: 0.850 - ETA: 1:19 - loss: 0.3388 - acc: 0.851 - ETA: 1:17 - loss: 0.3384 - acc: 0.851 - ETA: 1:15 - loss: 0.3382 - acc: 0.851 - ETA: 1:13 - loss: 0.3378 - acc: 0.851 - ETA: 1:11 - loss: 0.3376 - acc: 0.851 - ETA: 1:09 - loss: 0.3372 - acc: 0.852 - ETA: 1:07 - loss: 0.3370 - acc: 0.852 - ETA: 1:04 - loss: 0.3369 - acc: 0.852 - ETA: 1:02 - loss: 0.3365 - acc: 0.852 - ETA: 1:00 - loss: 0.3364 - acc: 0.852 - ETA: 58s - loss: 0.3362 - acc: 0.852 - ETA: 56s - loss: 0.3357 - acc: 0.85 - ETA: 54s - loss: 0.3358 - acc: 0.85 - ETA: 52s - loss: 0.3355 - acc: 0.85 - ETA: 50s - loss: 0.3353 - acc: 0.85 - ETA: 48s - loss: 0.3351 - acc: 0.85 - ETA: 46s - loss: 0.3349 - acc: 0.85 - ETA: 44s - loss: 0.3347 - acc: 0.85 - ETA: 42s - loss: 0.3346 - acc: 0.85 - ETA: 40s - loss: 0.3343 - acc: 0.85 - ETA: 38s - loss: 0.3342 - acc: 0.85 - ETA: 36s - loss: 0.3340 - acc: 0.85 - ETA: 34s - loss: 0.3338 - acc: 0.85 - ETA: 32s - loss: 0.3336 - acc: 0.85 - ETA: 30s - loss: 0.3333 - acc: 0.85 - ETA: 28s - loss: 0.3333 - acc: 0.85 - ETA: 26s - loss: 0.3332 - acc: 0.85 - ETA: 24s - loss: 0.3330 - acc: 0.85 - ETA: 22s - loss: 0.3327 - acc: 0.85 - ETA: 20s - loss: 0.3324 - acc: 0.85 - ETA: 18s - loss: 0.3324 - acc: 0.85 - ETA: 16s - loss: 0.3323 - acc: 0.85 - ETA: 14s - loss: 0.3322 - acc: 0.85 - ETA: 12s - loss: 0.3321 - acc: 0.85 - ETA: 10s - loss: 0.3318 - acc: 0.85 - ETA: 8s - loss: 0.3317 - acc: 0.8554 - ETA: 6s - loss: 0.3316 - acc: 0.855 - ETA: 4s - loss: 0.3313 - acc: 0.855 - ETA: 2s - loss: 0.3311 - acc: 0.855 - 934s 21ms/step - loss: 0.3309 - acc: 0.8558 - val_loss: 0.2136 - val_acc: 0.9088\n",
      "Epoch 2/3\n"
     ]
    },
    {
     "name": "stdout",
     "output_type": "stream",
     "text": [
      "20400/45000 [============>.................] - ETA: 14:27 - loss: 0.1397 - acc: 0.97 - ETA: 14:22 - loss: 0.1921 - acc: 0.93 - ETA: 14:29 - loss: 0.1810 - acc: 0.93 - ETA: 14:22 - loss: 0.1815 - acc: 0.93 - ETA: 14:25 - loss: 0.1837 - acc: 0.92 - ETA: 14:24 - loss: 0.1790 - acc: 0.93 - ETA: 14:21 - loss: 0.1876 - acc: 0.92 - ETA: 14:20 - loss: 0.1857 - acc: 0.93 - ETA: 14:17 - loss: 0.1755 - acc: 0.93 - ETA: 14:17 - loss: 0.1712 - acc: 0.93 - ETA: 14:17 - loss: 0.1663 - acc: 0.93 - ETA: 14:14 - loss: 0.1654 - acc: 0.94 - ETA: 14:12 - loss: 0.1603 - acc: 0.94 - ETA: 14:12 - loss: 0.1644 - acc: 0.94 - ETA: 14:10 - loss: 0.1645 - acc: 0.94 - ETA: 14:10 - loss: 0.1623 - acc: 0.94 - ETA: 14:06 - loss: 0.1662 - acc: 0.94 - ETA: 14:04 - loss: 0.1647 - acc: 0.94 - ETA: 14:08 - loss: 0.1632 - acc: 0.94 - ETA: 14:03 - loss: 0.1613 - acc: 0.94 - ETA: 14:01 - loss: 0.1626 - acc: 0.94 - ETA: 13:59 - loss: 0.1656 - acc: 0.94 - ETA: 13:57 - loss: 0.1679 - acc: 0.94 - ETA: 13:55 - loss: 0.1671 - acc: 0.94 - ETA: 13:53 - loss: 0.1657 - acc: 0.94 - ETA: 13:52 - loss: 0.1719 - acc: 0.93 - ETA: 13:50 - loss: 0.1741 - acc: 0.93 - ETA: 14:03 - loss: 0.1715 - acc: 0.94 - ETA: 14:10 - loss: 0.1747 - acc: 0.93 - ETA: 14:12 - loss: 0.1745 - acc: 0.93 - ETA: 14:12 - loss: 0.1746 - acc: 0.93 - ETA: 14:12 - loss: 0.1754 - acc: 0.93 - ETA: 14:11 - loss: 0.1737 - acc: 0.93 - ETA: 14:10 - loss: 0.1724 - acc: 0.93 - ETA: 14:10 - loss: 0.1712 - acc: 0.93 - ETA: 14:12 - loss: 0.1720 - acc: 0.93 - ETA: 14:12 - loss: 0.1725 - acc: 0.93 - ETA: 14:13 - loss: 0.1712 - acc: 0.93 - ETA: 14:12 - loss: 0.1703 - acc: 0.94 - ETA: 14:12 - loss: 0.1691 - acc: 0.94 - ETA: 14:11 - loss: 0.1706 - acc: 0.93 - ETA: 14:10 - loss: 0.1686 - acc: 0.93 - ETA: 14:09 - loss: 0.1690 - acc: 0.93 - ETA: 14:08 - loss: 0.1677 - acc: 0.94 - ETA: 14:07 - loss: 0.1708 - acc: 0.93 - ETA: 14:07 - loss: 0.1692 - acc: 0.93 - ETA: 14:06 - loss: 0.1677 - acc: 0.94 - ETA: 14:05 - loss: 0.1674 - acc: 0.94 - ETA: 14:03 - loss: 0.1669 - acc: 0.94 - ETA: 14:02 - loss: 0.1675 - acc: 0.94 - ETA: 14:02 - loss: 0.1675 - acc: 0.94 - ETA: 14:03 - loss: 0.1686 - acc: 0.93 - ETA: 14:01 - loss: 0.1687 - acc: 0.93 - ETA: 14:00 - loss: 0.1692 - acc: 0.93 - ETA: 13:58 - loss: 0.1705 - acc: 0.93 - ETA: 13:57 - loss: 0.1708 - acc: 0.93 - ETA: 13:55 - loss: 0.1697 - acc: 0.93 - ETA: 13:54 - loss: 0.1689 - acc: 0.93 - ETA: 13:52 - loss: 0.1678 - acc: 0.93 - ETA: 13:49 - loss: 0.1689 - acc: 0.93 - ETA: 13:48 - loss: 0.1690 - acc: 0.93 - ETA: 13:47 - loss: 0.1690 - acc: 0.93 - ETA: 13:46 - loss: 0.1694 - acc: 0.93 - ETA: 13:45 - loss: 0.1704 - acc: 0.93 - ETA: 13:44 - loss: 0.1723 - acc: 0.93 - ETA: 13:42 - loss: 0.1724 - acc: 0.93 - ETA: 13:39 - loss: 0.1732 - acc: 0.93 - ETA: 13:36 - loss: 0.1734 - acc: 0.93 - ETA: 13:33 - loss: 0.1729 - acc: 0.93 - ETA: 13:30 - loss: 0.1726 - acc: 0.93 - ETA: 13:27 - loss: 0.1741 - acc: 0.93 - ETA: 13:25 - loss: 0.1743 - acc: 0.93 - ETA: 13:22 - loss: 0.1759 - acc: 0.93 - ETA: 13:19 - loss: 0.1765 - acc: 0.93 - ETA: 13:16 - loss: 0.1759 - acc: 0.93 - ETA: 13:15 - loss: 0.1759 - acc: 0.93 - ETA: 13:11 - loss: 0.1758 - acc: 0.93 - ETA: 13:08 - loss: 0.1761 - acc: 0.93 - ETA: 13:05 - loss: 0.1754 - acc: 0.93 - ETA: 13:02 - loss: 0.1753 - acc: 0.93 - ETA: 13:00 - loss: 0.1755 - acc: 0.93 - ETA: 12:57 - loss: 0.1759 - acc: 0.93 - ETA: 12:55 - loss: 0.1759 - acc: 0.93 - ETA: 12:53 - loss: 0.1757 - acc: 0.93 - ETA: 12:50 - loss: 0.1755 - acc: 0.93 - ETA: 12:47 - loss: 0.1750 - acc: 0.93 - ETA: 12:45 - loss: 0.1745 - acc: 0.93 - ETA: 12:42 - loss: 0.1751 - acc: 0.93 - ETA: 12:39 - loss: 0.1758 - acc: 0.93 - ETA: 12:37 - loss: 0.1749 - acc: 0.93 - ETA: 12:34 - loss: 0.1743 - acc: 0.93 - ETA: 12:32 - loss: 0.1751 - acc: 0.93 - ETA: 12:30 - loss: 0.1752 - acc: 0.93 - ETA: 12:27 - loss: 0.1751 - acc: 0.93 - ETA: 12:25 - loss: 0.1757 - acc: 0.93 - ETA: 12:24 - loss: 0.1755 - acc: 0.93 - ETA: 12:23 - loss: 0.1750 - acc: 0.93 - ETA: 12:21 - loss: 0.1743 - acc: 0.93 - ETA: 12:19 - loss: 0.1744 - acc: 0.93 - ETA: 12:18 - loss: 0.1741 - acc: 0.93 - ETA: 12:16 - loss: 0.1739 - acc: 0.93 - ETA: 12:13 - loss: 0.1734 - acc: 0.93 - ETA: 12:11 - loss: 0.1729 - acc: 0.93 - ETA: 12:09 - loss: 0.1727 - acc: 0.93 - ETA: 12:07 - loss: 0.1725 - acc: 0.93 - ETA: 12:04 - loss: 0.1728 - acc: 0.93 - ETA: 12:02 - loss: 0.1733 - acc: 0.93 - ETA: 12:00 - loss: 0.1730 - acc: 0.93 - ETA: 11:58 - loss: 0.1733 - acc: 0.93 - ETA: 11:57 - loss: 0.1731 - acc: 0.93 - ETA: 11:55 - loss: 0.1724 - acc: 0.93 - ETA: 11:54 - loss: 0.1719 - acc: 0.93 - ETA: 11:53 - loss: 0.1719 - acc: 0.93 - ETA: 11:52 - loss: 0.1722 - acc: 0.93 - ETA: 11:50 - loss: 0.1720 - acc: 0.93 - ETA: 11:48 - loss: 0.1717 - acc: 0.93 - ETA: 11:47 - loss: 0.1717 - acc: 0.93 - ETA: 11:45 - loss: 0.1719 - acc: 0.93 - ETA: 11:43 - loss: 0.1710 - acc: 0.93 - ETA: 11:43 - loss: 0.1709 - acc: 0.93 - ETA: 11:41 - loss: 0.1708 - acc: 0.93 - ETA: 11:39 - loss: 0.1720 - acc: 0.93 - ETA: 11:37 - loss: 0.1715 - acc: 0.93 - ETA: 11:35 - loss: 0.1712 - acc: 0.93 - ETA: 11:33 - loss: 0.1713 - acc: 0.93 - ETA: 11:31 - loss: 0.1715 - acc: 0.93 - ETA: 11:29 - loss: 0.1714 - acc: 0.93 - ETA: 11:26 - loss: 0.1717 - acc: 0.93 - ETA: 11:24 - loss: 0.1718 - acc: 0.93 - ETA: 11:22 - loss: 0.1710 - acc: 0.93 - ETA: 11:19 - loss: 0.1708 - acc: 0.93 - ETA: 11:17 - loss: 0.1712 - acc: 0.93 - ETA: 11:15 - loss: 0.1717 - acc: 0.93 - ETA: 11:13 - loss: 0.1724 - acc: 0.93 - ETA: 11:10 - loss: 0.1721 - acc: 0.93 - ETA: 11:08 - loss: 0.1714 - acc: 0.93 - ETA: 11:05 - loss: 0.1713 - acc: 0.93 - ETA: 11:03 - loss: 0.1710 - acc: 0.93 - ETA: 11:01 - loss: 0.1713 - acc: 0.93 - ETA: 10:58 - loss: 0.1708 - acc: 0.93 - ETA: 10:56 - loss: 0.1704 - acc: 0.93 - ETA: 10:54 - loss: 0.1701 - acc: 0.93 - ETA: 10:52 - loss: 0.1695 - acc: 0.93 - ETA: 10:49 - loss: 0.1695 - acc: 0.93 - ETA: 10:47 - loss: 0.1709 - acc: 0.93 - ETA: 10:45 - loss: 0.1706 - acc: 0.93 - ETA: 10:43 - loss: 0.1708 - acc: 0.93 - ETA: 10:40 - loss: 0.1709 - acc: 0.93 - ETA: 10:38 - loss: 0.1708 - acc: 0.93 - ETA: 10:35 - loss: 0.1710 - acc: 0.93 - ETA: 10:33 - loss: 0.1718 - acc: 0.93 - ETA: 10:31 - loss: 0.1719 - acc: 0.93 - ETA: 10:29 - loss: 0.1712 - acc: 0.93 - ETA: 10:27 - loss: 0.1708 - acc: 0.93 - ETA: 10:25 - loss: 0.1711 - acc: 0.93 - ETA: 10:23 - loss: 0.1708 - acc: 0.93 - ETA: 10:21 - loss: 0.1713 - acc: 0.93 - ETA: 10:19 - loss: 0.1715 - acc: 0.93 - ETA: 10:17 - loss: 0.1711 - acc: 0.93 - ETA: 10:15 - loss: 0.1710 - acc: 0.93 - ETA: 10:13 - loss: 0.1712 - acc: 0.93 - ETA: 10:11 - loss: 0.1711 - acc: 0.93 - ETA: 10:09 - loss: 0.1711 - acc: 0.93 - ETA: 10:06 - loss: 0.1714 - acc: 0.93 - ETA: 10:04 - loss: 0.1718 - acc: 0.93 - ETA: 10:02 - loss: 0.1717 - acc: 0.93 - ETA: 10:00 - loss: 0.1720 - acc: 0.93 - ETA: 9:58 - loss: 0.1716 - acc: 0.9379 - ETA: 9:55 - loss: 0.1719 - acc: 0.937 - ETA: 9:53 - loss: 0.1718 - acc: 0.937 - ETA: 9:51 - loss: 0.1719 - acc: 0.937 - ETA: 9:48 - loss: 0.1720 - acc: 0.937 - ETA: 9:46 - loss: 0.1719 - acc: 0.938 - ETA: 9:44 - loss: 0.1719 - acc: 0.937 - ETA: 9:42 - loss: 0.1724 - acc: 0.937 - ETA: 9:39 - loss: 0.1725 - acc: 0.937 - ETA: 9:37 - loss: 0.1722 - acc: 0.937 - ETA: 9:35 - loss: 0.1725 - acc: 0.937 - ETA: 9:33 - loss: 0.1727 - acc: 0.937 - ETA: 9:31 - loss: 0.1726 - acc: 0.937 - ETA: 9:28 - loss: 0.1729 - acc: 0.937 - ETA: 9:26 - loss: 0.1732 - acc: 0.937 - ETA: 9:24 - loss: 0.1731 - acc: 0.937 - ETA: 9:22 - loss: 0.1734 - acc: 0.937 - ETA: 9:19 - loss: 0.1743 - acc: 0.936 - ETA: 9:17 - loss: 0.1745 - acc: 0.936 - ETA: 9:15 - loss: 0.1749 - acc: 0.936 - ETA: 9:13 - loss: 0.1748 - acc: 0.936 - ETA: 9:11 - loss: 0.1755 - acc: 0.936 - ETA: 9:08 - loss: 0.1759 - acc: 0.936 - ETA: 9:06 - loss: 0.1761 - acc: 0.936 - ETA: 9:05 - loss: 0.1765 - acc: 0.936 - ETA: 9:04 - loss: 0.1768 - acc: 0.936 - ETA: 9:01 - loss: 0.1767 - acc: 0.936 - ETA: 9:00 - loss: 0.1768 - acc: 0.936 - ETA: 8:58 - loss: 0.1768 - acc: 0.936 - ETA: 8:56 - loss: 0.1768 - acc: 0.936 - ETA: 8:54 - loss: 0.1768 - acc: 0.936 - ETA: 8:51 - loss: 0.1772 - acc: 0.936 - ETA: 8:49 - loss: 0.1776 - acc: 0.936 - ETA: 8:48 - loss: 0.1778 - acc: 0.935 - ETA: 8:46 - loss: 0.1780 - acc: 0.935 - ETA: 8:44 - loss: 0.1785 - acc: 0.935 - ETA: 8:42 - loss: 0.1787 - acc: 0.9355"
     ]
    },
    {
     "name": "stdout",
     "output_type": "stream",
     "text": [
      "40800/45000 [==========================>...] - ETA: 8:40 - loss: 0.1790 - acc: 0.935 - ETA: 8:37 - loss: 0.1792 - acc: 0.935 - ETA: 8:35 - loss: 0.1793 - acc: 0.935 - ETA: 8:33 - loss: 0.1794 - acc: 0.935 - ETA: 8:31 - loss: 0.1792 - acc: 0.935 - ETA: 8:29 - loss: 0.1793 - acc: 0.935 - ETA: 8:27 - loss: 0.1792 - acc: 0.935 - ETA: 8:24 - loss: 0.1793 - acc: 0.935 - ETA: 8:22 - loss: 0.1803 - acc: 0.934 - ETA: 8:20 - loss: 0.1800 - acc: 0.934 - ETA: 8:19 - loss: 0.1800 - acc: 0.934 - ETA: 8:16 - loss: 0.1800 - acc: 0.935 - ETA: 8:14 - loss: 0.1798 - acc: 0.934 - ETA: 8:12 - loss: 0.1797 - acc: 0.935 - ETA: 8:10 - loss: 0.1796 - acc: 0.934 - ETA: 8:08 - loss: 0.1794 - acc: 0.935 - ETA: 8:06 - loss: 0.1796 - acc: 0.934 - ETA: 8:04 - loss: 0.1801 - acc: 0.934 - ETA: 8:02 - loss: 0.1801 - acc: 0.934 - ETA: 8:00 - loss: 0.1800 - acc: 0.934 - ETA: 7:58 - loss: 0.1798 - acc: 0.934 - ETA: 7:56 - loss: 0.1795 - acc: 0.934 - ETA: 7:54 - loss: 0.1793 - acc: 0.934 - ETA: 7:52 - loss: 0.1790 - acc: 0.935 - ETA: 7:50 - loss: 0.1788 - acc: 0.935 - ETA: 7:48 - loss: 0.1789 - acc: 0.935 - ETA: 7:46 - loss: 0.1792 - acc: 0.935 - ETA: 7:43 - loss: 0.1791 - acc: 0.935 - ETA: 7:41 - loss: 0.1788 - acc: 0.935 - ETA: 7:40 - loss: 0.1791 - acc: 0.935 - ETA: 7:38 - loss: 0.1788 - acc: 0.935 - ETA: 7:36 - loss: 0.1787 - acc: 0.935 - ETA: 7:34 - loss: 0.1786 - acc: 0.935 - ETA: 7:31 - loss: 0.1785 - acc: 0.935 - ETA: 7:29 - loss: 0.1787 - acc: 0.935 - ETA: 7:27 - loss: 0.1788 - acc: 0.935 - ETA: 7:25 - loss: 0.1789 - acc: 0.935 - ETA: 7:23 - loss: 0.1789 - acc: 0.935 - ETA: 7:21 - loss: 0.1790 - acc: 0.935 - ETA: 7:19 - loss: 0.1788 - acc: 0.935 - ETA: 7:17 - loss: 0.1787 - acc: 0.935 - ETA: 7:15 - loss: 0.1783 - acc: 0.935 - ETA: 7:13 - loss: 0.1783 - acc: 0.935 - ETA: 7:11 - loss: 0.1782 - acc: 0.935 - ETA: 7:08 - loss: 0.1784 - acc: 0.935 - ETA: 7:07 - loss: 0.1791 - acc: 0.935 - ETA: 7:04 - loss: 0.1793 - acc: 0.935 - ETA: 7:03 - loss: 0.1794 - acc: 0.935 - ETA: 7:00 - loss: 0.1792 - acc: 0.935 - ETA: 6:59 - loss: 0.1792 - acc: 0.935 - ETA: 6:57 - loss: 0.1793 - acc: 0.935 - ETA: 6:55 - loss: 0.1792 - acc: 0.935 - ETA: 6:53 - loss: 0.1790 - acc: 0.935 - ETA: 6:51 - loss: 0.1790 - acc: 0.935 - ETA: 6:50 - loss: 0.1790 - acc: 0.934 - ETA: 6:48 - loss: 0.1791 - acc: 0.934 - ETA: 6:46 - loss: 0.1790 - acc: 0.934 - ETA: 6:44 - loss: 0.1793 - acc: 0.934 - ETA: 6:43 - loss: 0.1793 - acc: 0.934 - ETA: 6:41 - loss: 0.1791 - acc: 0.934 - ETA: 6:40 - loss: 0.1794 - acc: 0.934 - ETA: 6:38 - loss: 0.1794 - acc: 0.934 - ETA: 6:37 - loss: 0.1794 - acc: 0.934 - ETA: 6:36 - loss: 0.1795 - acc: 0.934 - ETA: 6:34 - loss: 0.1792 - acc: 0.934 - ETA: 6:32 - loss: 0.1787 - acc: 0.935 - ETA: 6:30 - loss: 0.1785 - acc: 0.935 - ETA: 6:28 - loss: 0.1783 - acc: 0.935 - ETA: 6:26 - loss: 0.1786 - acc: 0.935 - ETA: 6:24 - loss: 0.1784 - acc: 0.935 - ETA: 6:21 - loss: 0.1784 - acc: 0.935 - ETA: 6:19 - loss: 0.1783 - acc: 0.935 - ETA: 6:17 - loss: 0.1784 - acc: 0.935 - ETA: 6:15 - loss: 0.1785 - acc: 0.934 - ETA: 6:13 - loss: 0.1784 - acc: 0.934 - ETA: 6:11 - loss: 0.1784 - acc: 0.934 - ETA: 6:08 - loss: 0.1785 - acc: 0.934 - ETA: 6:06 - loss: 0.1786 - acc: 0.934 - ETA: 6:04 - loss: 0.1784 - acc: 0.934 - ETA: 6:02 - loss: 0.1783 - acc: 0.934 - ETA: 6:00 - loss: 0.1782 - acc: 0.934 - ETA: 5:58 - loss: 0.1781 - acc: 0.934 - ETA: 5:56 - loss: 0.1783 - acc: 0.934 - ETA: 5:54 - loss: 0.1782 - acc: 0.934 - ETA: 5:52 - loss: 0.1780 - acc: 0.934 - ETA: 5:50 - loss: 0.1778 - acc: 0.934 - ETA: 5:48 - loss: 0.1779 - acc: 0.934 - ETA: 5:47 - loss: 0.1778 - acc: 0.934 - ETA: 5:45 - loss: 0.1778 - acc: 0.934 - ETA: 5:43 - loss: 0.1776 - acc: 0.934 - ETA: 5:41 - loss: 0.1773 - acc: 0.935 - ETA: 5:39 - loss: 0.1779 - acc: 0.934 - ETA: 5:37 - loss: 0.1781 - acc: 0.934 - ETA: 5:35 - loss: 0.1781 - acc: 0.934 - ETA: 5:33 - loss: 0.1781 - acc: 0.934 - ETA: 5:32 - loss: 0.1782 - acc: 0.934 - ETA: 5:30 - loss: 0.1780 - acc: 0.934 - ETA: 5:28 - loss: 0.1780 - acc: 0.934 - ETA: 5:26 - loss: 0.1781 - acc: 0.934 - ETA: 5:24 - loss: 0.1779 - acc: 0.934 - ETA: 5:22 - loss: 0.1777 - acc: 0.934 - ETA: 5:20 - loss: 0.1779 - acc: 0.934 - ETA: 5:18 - loss: 0.1776 - acc: 0.934 - ETA: 5:16 - loss: 0.1775 - acc: 0.934 - ETA: 5:14 - loss: 0.1774 - acc: 0.934 - ETA: 5:12 - loss: 0.1771 - acc: 0.934 - ETA: 5:10 - loss: 0.1769 - acc: 0.935 - ETA: 5:08 - loss: 0.1770 - acc: 0.934 - ETA: 5:06 - loss: 0.1772 - acc: 0.934 - ETA: 5:04 - loss: 0.1771 - acc: 0.934 - ETA: 5:02 - loss: 0.1772 - acc: 0.934 - ETA: 5:00 - loss: 0.1771 - acc: 0.934 - ETA: 4:58 - loss: 0.1770 - acc: 0.934 - ETA: 4:56 - loss: 0.1770 - acc: 0.934 - ETA: 4:54 - loss: 0.1771 - acc: 0.934 - ETA: 4:53 - loss: 0.1770 - acc: 0.934 - ETA: 4:50 - loss: 0.1770 - acc: 0.934 - ETA: 4:48 - loss: 0.1771 - acc: 0.934 - ETA: 4:46 - loss: 0.1772 - acc: 0.934 - ETA: 4:44 - loss: 0.1773 - acc: 0.934 - ETA: 4:41 - loss: 0.1770 - acc: 0.935 - ETA: 4:39 - loss: 0.1769 - acc: 0.935 - ETA: 4:37 - loss: 0.1768 - acc: 0.935 - ETA: 4:35 - loss: 0.1769 - acc: 0.935 - ETA: 4:32 - loss: 0.1768 - acc: 0.935 - ETA: 4:30 - loss: 0.1766 - acc: 0.935 - ETA: 4:28 - loss: 0.1767 - acc: 0.935 - ETA: 4:26 - loss: 0.1766 - acc: 0.935 - ETA: 4:23 - loss: 0.1762 - acc: 0.935 - ETA: 4:21 - loss: 0.1762 - acc: 0.935 - ETA: 4:19 - loss: 0.1763 - acc: 0.935 - ETA: 4:16 - loss: 0.1762 - acc: 0.935 - ETA: 4:14 - loss: 0.1761 - acc: 0.935 - ETA: 4:12 - loss: 0.1762 - acc: 0.935 - ETA: 4:10 - loss: 0.1762 - acc: 0.935 - ETA: 4:07 - loss: 0.1761 - acc: 0.935 - ETA: 4:05 - loss: 0.1761 - acc: 0.935 - ETA: 4:03 - loss: 0.1761 - acc: 0.935 - ETA: 4:00 - loss: 0.1760 - acc: 0.935 - ETA: 3:58 - loss: 0.1758 - acc: 0.935 - ETA: 3:56 - loss: 0.1758 - acc: 0.935 - ETA: 3:53 - loss: 0.1757 - acc: 0.935 - ETA: 3:51 - loss: 0.1755 - acc: 0.935 - ETA: 3:49 - loss: 0.1754 - acc: 0.935 - ETA: 3:46 - loss: 0.1755 - acc: 0.935 - ETA: 3:44 - loss: 0.1754 - acc: 0.935 - ETA: 3:42 - loss: 0.1753 - acc: 0.935 - ETA: 3:39 - loss: 0.1753 - acc: 0.935 - ETA: 3:37 - loss: 0.1754 - acc: 0.935 - ETA: 3:35 - loss: 0.1752 - acc: 0.935 - ETA: 3:33 - loss: 0.1752 - acc: 0.935 - ETA: 3:30 - loss: 0.1749 - acc: 0.935 - ETA: 3:28 - loss: 0.1751 - acc: 0.935 - ETA: 3:26 - loss: 0.1750 - acc: 0.935 - ETA: 3:24 - loss: 0.1749 - acc: 0.935 - ETA: 3:21 - loss: 0.1750 - acc: 0.935 - ETA: 3:19 - loss: 0.1751 - acc: 0.935 - ETA: 3:17 - loss: 0.1751 - acc: 0.935 - ETA: 3:14 - loss: 0.1749 - acc: 0.935 - ETA: 3:12 - loss: 0.1748 - acc: 0.935 - ETA: 3:10 - loss: 0.1748 - acc: 0.935 - ETA: 3:08 - loss: 0.1749 - acc: 0.935 - ETA: 3:05 - loss: 0.1748 - acc: 0.935 - ETA: 3:03 - loss: 0.1747 - acc: 0.936 - ETA: 3:01 - loss: 0.1746 - acc: 0.936 - ETA: 2:59 - loss: 0.1745 - acc: 0.936 - ETA: 2:56 - loss: 0.1744 - acc: 0.936 - ETA: 2:54 - loss: 0.1743 - acc: 0.936 - ETA: 2:52 - loss: 0.1745 - acc: 0.936 - ETA: 2:50 - loss: 0.1744 - acc: 0.936 - ETA: 2:47 - loss: 0.1741 - acc: 0.936 - ETA: 2:45 - loss: 0.1740 - acc: 0.936 - ETA: 2:43 - loss: 0.1737 - acc: 0.936 - ETA: 2:41 - loss: 0.1737 - acc: 0.936 - ETA: 2:38 - loss: 0.1734 - acc: 0.936 - ETA: 2:36 - loss: 0.1737 - acc: 0.936 - ETA: 2:34 - loss: 0.1738 - acc: 0.936 - ETA: 2:32 - loss: 0.1736 - acc: 0.936 - ETA: 2:29 - loss: 0.1737 - acc: 0.936 - ETA: 2:27 - loss: 0.1735 - acc: 0.936 - ETA: 2:25 - loss: 0.1734 - acc: 0.936 - ETA: 2:23 - loss: 0.1733 - acc: 0.936 - ETA: 2:20 - loss: 0.1733 - acc: 0.936 - ETA: 2:18 - loss: 0.1731 - acc: 0.936 - ETA: 2:16 - loss: 0.1731 - acc: 0.936 - ETA: 2:14 - loss: 0.1732 - acc: 0.936 - ETA: 2:11 - loss: 0.1731 - acc: 0.936 - ETA: 2:09 - loss: 0.1731 - acc: 0.936 - ETA: 2:07 - loss: 0.1730 - acc: 0.936 - ETA: 2:04 - loss: 0.1731 - acc: 0.936 - ETA: 2:02 - loss: 0.1729 - acc: 0.936 - ETA: 2:00 - loss: 0.1728 - acc: 0.936 - ETA: 1:58 - loss: 0.1727 - acc: 0.937 - ETA: 1:55 - loss: 0.1731 - acc: 0.936 - ETA: 1:53 - loss: 0.1731 - acc: 0.936 - ETA: 1:51 - loss: 0.1730 - acc: 0.936 - ETA: 1:49 - loss: 0.1727 - acc: 0.937 - ETA: 1:46 - loss: 0.1725 - acc: 0.937 - ETA: 1:44 - loss: 0.1725 - acc: 0.937 - ETA: 1:42 - loss: 0.1722 - acc: 0.937 - ETA: 1:40 - loss: 0.1725 - acc: 0.937 - ETA: 1:37 - loss: 0.1724 - acc: 0.937 - ETA: 1:35 - loss: 0.1726 - acc: 0.937 - ETA: 1:33 - loss: 0.1725 - acc: 0.9371"
     ]
    },
    {
     "name": "stdout",
     "output_type": "stream",
     "text": [
      "45000/45000 [==============================] - ETA: 1:31 - loss: 0.1723 - acc: 0.937 - ETA: 1:29 - loss: 0.1725 - acc: 0.937 - ETA: 1:26 - loss: 0.1726 - acc: 0.937 - ETA: 1:24 - loss: 0.1725 - acc: 0.937 - ETA: 1:22 - loss: 0.1727 - acc: 0.937 - ETA: 1:20 - loss: 0.1726 - acc: 0.937 - ETA: 1:17 - loss: 0.1727 - acc: 0.937 - ETA: 1:15 - loss: 0.1728 - acc: 0.937 - ETA: 1:13 - loss: 0.1727 - acc: 0.937 - ETA: 1:11 - loss: 0.1726 - acc: 0.937 - ETA: 1:08 - loss: 0.1727 - acc: 0.936 - ETA: 1:06 - loss: 0.1725 - acc: 0.937 - ETA: 1:04 - loss: 0.1723 - acc: 0.937 - ETA: 1:02 - loss: 0.1724 - acc: 0.937 - ETA: 59s - loss: 0.1722 - acc: 0.937 - ETA: 57s - loss: 0.1723 - acc: 0.93 - ETA: 55s - loss: 0.1724 - acc: 0.93 - ETA: 53s - loss: 0.1723 - acc: 0.93 - ETA: 50s - loss: 0.1724 - acc: 0.93 - ETA: 48s - loss: 0.1726 - acc: 0.93 - ETA: 46s - loss: 0.1726 - acc: 0.93 - ETA: 44s - loss: 0.1725 - acc: 0.93 - ETA: 42s - loss: 0.1727 - acc: 0.93 - ETA: 39s - loss: 0.1727 - acc: 0.93 - ETA: 37s - loss: 0.1725 - acc: 0.93 - ETA: 35s - loss: 0.1725 - acc: 0.93 - ETA: 33s - loss: 0.1724 - acc: 0.93 - ETA: 30s - loss: 0.1723 - acc: 0.93 - ETA: 28s - loss: 0.1722 - acc: 0.93 - ETA: 26s - loss: 0.1722 - acc: 0.93 - ETA: 24s - loss: 0.1721 - acc: 0.93 - ETA: 22s - loss: 0.1724 - acc: 0.93 - ETA: 19s - loss: 0.1725 - acc: 0.93 - ETA: 17s - loss: 0.1725 - acc: 0.93 - ETA: 15s - loss: 0.1726 - acc: 0.93 - ETA: 13s - loss: 0.1729 - acc: 0.93 - ETA: 11s - loss: 0.1729 - acc: 0.93 - ETA: 8s - loss: 0.1729 - acc: 0.9367 - ETA: 6s - loss: 0.1726 - acc: 0.936 - ETA: 4s - loss: 0.1726 - acc: 0.936 - ETA: 2s - loss: 0.1725 - acc: 0.936 - 1015s 23ms/step - loss: 0.1724 - acc: 0.9368 - val_loss: 0.1001 - val_acc: 0.9608\n",
      "Epoch 3/3\n"
     ]
    },
    {
     "name": "stdout",
     "output_type": "stream",
     "text": [
      "20400/45000 [============>.................] - ETA: 14:52 - loss: 0.1245 - acc: 0.97 - ETA: 15:03 - loss: 0.1062 - acc: 0.97 - ETA: 14:53 - loss: 0.1211 - acc: 0.96 - ETA: 14:42 - loss: 0.1147 - acc: 0.96 - ETA: 14:42 - loss: 0.1053 - acc: 0.96 - ETA: 14:39 - loss: 0.0999 - acc: 0.96 - ETA: 14:39 - loss: 0.0946 - acc: 0.97 - ETA: 14:40 - loss: 0.1053 - acc: 0.96 - ETA: 14:36 - loss: 0.1021 - acc: 0.96 - ETA: 14:40 - loss: 0.1001 - acc: 0.96 - ETA: 14:43 - loss: 0.0934 - acc: 0.97 - ETA: 14:42 - loss: 0.0917 - acc: 0.97 - ETA: 14:48 - loss: 0.0946 - acc: 0.97 - ETA: 14:50 - loss: 0.0954 - acc: 0.97 - ETA: 14:48 - loss: 0.0935 - acc: 0.97 - ETA: 14:48 - loss: 0.0919 - acc: 0.97 - ETA: 14:47 - loss: 0.0886 - acc: 0.97 - ETA: 14:47 - loss: 0.0900 - acc: 0.97 - ETA: 14:44 - loss: 0.0887 - acc: 0.97 - ETA: 14:40 - loss: 0.0933 - acc: 0.97 - ETA: 14:37 - loss: 0.0928 - acc: 0.97 - ETA: 14:36 - loss: 0.0918 - acc: 0.97 - ETA: 14:39 - loss: 0.0910 - acc: 0.97 - ETA: 14:36 - loss: 0.0916 - acc: 0.97 - ETA: 14:34 - loss: 0.0909 - acc: 0.97 - ETA: 14:32 - loss: 0.0895 - acc: 0.97 - ETA: 14:29 - loss: 0.0890 - acc: 0.97 - ETA: 14:28 - loss: 0.0903 - acc: 0.97 - ETA: 14:27 - loss: 0.0903 - acc: 0.97 - ETA: 14:25 - loss: 0.0897 - acc: 0.97 - ETA: 14:25 - loss: 0.0883 - acc: 0.97 - ETA: 14:25 - loss: 0.0877 - acc: 0.97 - ETA: 14:27 - loss: 0.0908 - acc: 0.97 - ETA: 14:25 - loss: 0.0903 - acc: 0.97 - ETA: 14:23 - loss: 0.0906 - acc: 0.97 - ETA: 14:21 - loss: 0.0904 - acc: 0.97 - ETA: 14:19 - loss: 0.0910 - acc: 0.97 - ETA: 14:17 - loss: 0.0917 - acc: 0.97 - ETA: 14:17 - loss: 0.0910 - acc: 0.97 - ETA: 14:16 - loss: 0.0904 - acc: 0.97 - ETA: 14:15 - loss: 0.0889 - acc: 0.97 - ETA: 14:13 - loss: 0.0880 - acc: 0.97 - ETA: 14:10 - loss: 0.0872 - acc: 0.97 - ETA: 14:10 - loss: 0.0874 - acc: 0.97 - ETA: 14:08 - loss: 0.0878 - acc: 0.97 - ETA: 14:09 - loss: 0.0874 - acc: 0.97 - ETA: 14:10 - loss: 0.0867 - acc: 0.97 - ETA: 14:09 - loss: 0.0872 - acc: 0.97 - ETA: 14:06 - loss: 0.0869 - acc: 0.97 - ETA: 14:04 - loss: 0.0874 - acc: 0.97 - ETA: 14:02 - loss: 0.0892 - acc: 0.97 - ETA: 14:00 - loss: 0.0891 - acc: 0.97 - ETA: 13:59 - loss: 0.0890 - acc: 0.97 - ETA: 13:57 - loss: 0.0897 - acc: 0.97 - ETA: 13:55 - loss: 0.0889 - acc: 0.97 - ETA: 13:54 - loss: 0.0896 - acc: 0.97 - ETA: 13:52 - loss: 0.0895 - acc: 0.97 - ETA: 13:51 - loss: 0.0898 - acc: 0.97 - ETA: 13:48 - loss: 0.0906 - acc: 0.97 - ETA: 13:46 - loss: 0.0903 - acc: 0.97 - ETA: 13:45 - loss: 0.0898 - acc: 0.97 - ETA: 13:43 - loss: 0.0891 - acc: 0.97 - ETA: 13:42 - loss: 0.0896 - acc: 0.97 - ETA: 13:39 - loss: 0.0897 - acc: 0.97 - ETA: 13:37 - loss: 0.0901 - acc: 0.97 - ETA: 13:35 - loss: 0.0902 - acc: 0.97 - ETA: 13:33 - loss: 0.0898 - acc: 0.97 - ETA: 13:32 - loss: 0.0897 - acc: 0.97 - ETA: 13:30 - loss: 0.0906 - acc: 0.97 - ETA: 13:29 - loss: 0.0911 - acc: 0.97 - ETA: 13:26 - loss: 0.0912 - acc: 0.97 - ETA: 13:23 - loss: 0.0914 - acc: 0.97 - ETA: 13:24 - loss: 0.0923 - acc: 0.97 - ETA: 13:22 - loss: 0.0925 - acc: 0.97 - ETA: 13:20 - loss: 0.0931 - acc: 0.97 - ETA: 13:17 - loss: 0.0949 - acc: 0.96 - ETA: 13:14 - loss: 0.0956 - acc: 0.96 - ETA: 13:13 - loss: 0.0955 - acc: 0.96 - ETA: 13:10 - loss: 0.0964 - acc: 0.96 - ETA: 13:07 - loss: 0.0959 - acc: 0.96 - ETA: 13:04 - loss: 0.0953 - acc: 0.96 - ETA: 13:02 - loss: 0.0954 - acc: 0.96 - ETA: 12:59 - loss: 0.0953 - acc: 0.96 - ETA: 12:57 - loss: 0.0948 - acc: 0.96 - ETA: 12:55 - loss: 0.0945 - acc: 0.96 - ETA: 12:52 - loss: 0.0941 - acc: 0.96 - ETA: 12:50 - loss: 0.0952 - acc: 0.96 - ETA: 12:47 - loss: 0.0952 - acc: 0.96 - ETA: 12:44 - loss: 0.0958 - acc: 0.96 - ETA: 12:41 - loss: 0.0961 - acc: 0.96 - ETA: 12:39 - loss: 0.0971 - acc: 0.96 - ETA: 12:37 - loss: 0.0970 - acc: 0.96 - ETA: 12:34 - loss: 0.0970 - acc: 0.96 - ETA: 12:32 - loss: 0.0975 - acc: 0.96 - ETA: 12:29 - loss: 0.0994 - acc: 0.96 - ETA: 12:27 - loss: 0.0996 - acc: 0.96 - ETA: 12:25 - loss: 0.0991 - acc: 0.96 - ETA: 12:22 - loss: 0.1001 - acc: 0.96 - ETA: 12:20 - loss: 0.1011 - acc: 0.96 - ETA: 12:18 - loss: 0.1021 - acc: 0.96 - ETA: 12:17 - loss: 0.1023 - acc: 0.96 - ETA: 12:15 - loss: 0.1026 - acc: 0.96 - ETA: 12:13 - loss: 0.1033 - acc: 0.96 - ETA: 12:11 - loss: 0.1033 - acc: 0.96 - ETA: 12:08 - loss: 0.1033 - acc: 0.96 - ETA: 12:06 - loss: 0.1048 - acc: 0.96 - ETA: 12:03 - loss: 0.1051 - acc: 0.96 - ETA: 12:01 - loss: 0.1055 - acc: 0.96 - ETA: 11:59 - loss: 0.1059 - acc: 0.96 - ETA: 11:57 - loss: 0.1064 - acc: 0.96 - ETA: 11:54 - loss: 0.1064 - acc: 0.96 - ETA: 11:52 - loss: 0.1060 - acc: 0.96 - ETA: 11:50 - loss: 0.1070 - acc: 0.96 - ETA: 11:48 - loss: 0.1073 - acc: 0.96 - ETA: 11:46 - loss: 0.1071 - acc: 0.96 - ETA: 11:44 - loss: 0.1078 - acc: 0.96 - ETA: 11:41 - loss: 0.1077 - acc: 0.96 - ETA: 11:39 - loss: 0.1077 - acc: 0.96 - ETA: 11:37 - loss: 0.1077 - acc: 0.96 - ETA: 11:34 - loss: 0.1074 - acc: 0.96 - ETA: 11:32 - loss: 0.1069 - acc: 0.96 - ETA: 11:31 - loss: 0.1073 - acc: 0.96 - ETA: 11:28 - loss: 0.1077 - acc: 0.96 - ETA: 11:27 - loss: 0.1078 - acc: 0.96 - ETA: 11:25 - loss: 0.1078 - acc: 0.96 - ETA: 11:23 - loss: 0.1081 - acc: 0.96 - ETA: 11:21 - loss: 0.1075 - acc: 0.96 - ETA: 11:19 - loss: 0.1075 - acc: 0.96 - ETA: 11:17 - loss: 0.1075 - acc: 0.96 - ETA: 11:16 - loss: 0.1077 - acc: 0.96 - ETA: 11:14 - loss: 0.1077 - acc: 0.96 - ETA: 11:11 - loss: 0.1078 - acc: 0.96 - ETA: 11:09 - loss: 0.1083 - acc: 0.96 - ETA: 11:07 - loss: 0.1085 - acc: 0.96 - ETA: 11:04 - loss: 0.1087 - acc: 0.96 - ETA: 11:02 - loss: 0.1085 - acc: 0.96 - ETA: 11:00 - loss: 0.1085 - acc: 0.96 - ETA: 10:57 - loss: 0.1087 - acc: 0.96 - ETA: 10:55 - loss: 0.1084 - acc: 0.96 - ETA: 10:53 - loss: 0.1083 - acc: 0.96 - ETA: 10:51 - loss: 0.1093 - acc: 0.96 - ETA: 10:48 - loss: 0.1089 - acc: 0.96 - ETA: 10:46 - loss: 0.1085 - acc: 0.96 - ETA: 10:44 - loss: 0.1086 - acc: 0.96 - ETA: 10:41 - loss: 0.1086 - acc: 0.96 - ETA: 10:39 - loss: 0.1086 - acc: 0.96 - ETA: 10:37 - loss: 0.1084 - acc: 0.96 - ETA: 10:35 - loss: 0.1082 - acc: 0.96 - ETA: 10:32 - loss: 0.1084 - acc: 0.96 - ETA: 10:30 - loss: 0.1087 - acc: 0.96 - ETA: 10:28 - loss: 0.1088 - acc: 0.96 - ETA: 10:25 - loss: 0.1092 - acc: 0.96 - ETA: 10:23 - loss: 0.1100 - acc: 0.96 - ETA: 10:21 - loss: 0.1110 - acc: 0.96 - ETA: 10:19 - loss: 0.1116 - acc: 0.96 - ETA: 10:16 - loss: 0.1118 - acc: 0.96 - ETA: 10:14 - loss: 0.1121 - acc: 0.96 - ETA: 10:12 - loss: 0.1119 - acc: 0.96 - ETA: 10:09 - loss: 0.1116 - acc: 0.96 - ETA: 10:07 - loss: 0.1121 - acc: 0.96 - ETA: 10:05 - loss: 0.1122 - acc: 0.96 - ETA: 10:02 - loss: 0.1120 - acc: 0.96 - ETA: 10:00 - loss: 0.1121 - acc: 0.96 - ETA: 9:58 - loss: 0.1125 - acc: 0.9624 - ETA: 9:55 - loss: 0.1128 - acc: 0.962 - ETA: 9:53 - loss: 0.1125 - acc: 0.962 - ETA: 9:51 - loss: 0.1122 - acc: 0.962 - ETA: 9:49 - loss: 0.1123 - acc: 0.962 - ETA: 9:46 - loss: 0.1120 - acc: 0.962 - ETA: 9:44 - loss: 0.1119 - acc: 0.962 - ETA: 9:42 - loss: 0.1119 - acc: 0.962 - ETA: 9:40 - loss: 0.1120 - acc: 0.962 - ETA: 9:38 - loss: 0.1121 - acc: 0.962 - ETA: 9:36 - loss: 0.1124 - acc: 0.962 - ETA: 9:34 - loss: 0.1121 - acc: 0.962 - ETA: 9:31 - loss: 0.1123 - acc: 0.962 - ETA: 9:29 - loss: 0.1123 - acc: 0.962 - ETA: 9:27 - loss: 0.1121 - acc: 0.962 - ETA: 9:25 - loss: 0.1120 - acc: 0.962 - ETA: 9:23 - loss: 0.1123 - acc: 0.962 - ETA: 9:21 - loss: 0.1123 - acc: 0.962 - ETA: 9:19 - loss: 0.1127 - acc: 0.961 - ETA: 9:17 - loss: 0.1124 - acc: 0.961 - ETA: 9:15 - loss: 0.1130 - acc: 0.961 - ETA: 9:12 - loss: 0.1138 - acc: 0.961 - ETA: 9:10 - loss: 0.1140 - acc: 0.961 - ETA: 9:08 - loss: 0.1137 - acc: 0.961 - ETA: 9:06 - loss: 0.1140 - acc: 0.961 - ETA: 9:04 - loss: 0.1146 - acc: 0.960 - ETA: 9:01 - loss: 0.1148 - acc: 0.960 - ETA: 9:00 - loss: 0.1148 - acc: 0.960 - ETA: 8:58 - loss: 0.1150 - acc: 0.960 - ETA: 8:56 - loss: 0.1151 - acc: 0.960 - ETA: 8:54 - loss: 0.1152 - acc: 0.960 - ETA: 8:51 - loss: 0.1153 - acc: 0.960 - ETA: 8:49 - loss: 0.1152 - acc: 0.960 - ETA: 8:47 - loss: 0.1153 - acc: 0.960 - ETA: 8:45 - loss: 0.1151 - acc: 0.960 - ETA: 8:42 - loss: 0.1151 - acc: 0.960 - ETA: 8:40 - loss: 0.1152 - acc: 0.960 - ETA: 8:38 - loss: 0.1151 - acc: 0.960 - ETA: 8:36 - loss: 0.1153 - acc: 0.960 - ETA: 8:33 - loss: 0.1150 - acc: 0.960 - ETA: 8:31 - loss: 0.1150 - acc: 0.9605"
     ]
    },
    {
     "name": "stdout",
     "output_type": "stream",
     "text": [
      "40800/45000 [==========================>...] - ETA: 8:29 - loss: 0.1146 - acc: 0.960 - ETA: 8:27 - loss: 0.1149 - acc: 0.960 - ETA: 8:25 - loss: 0.1149 - acc: 0.960 - ETA: 8:22 - loss: 0.1146 - acc: 0.960 - ETA: 8:20 - loss: 0.1145 - acc: 0.960 - ETA: 8:18 - loss: 0.1147 - acc: 0.960 - ETA: 8:16 - loss: 0.1148 - acc: 0.960 - ETA: 8:14 - loss: 0.1151 - acc: 0.960 - ETA: 8:11 - loss: 0.1152 - acc: 0.960 - ETA: 8:09 - loss: 0.1150 - acc: 0.960 - ETA: 8:07 - loss: 0.1153 - acc: 0.960 - ETA: 8:05 - loss: 0.1152 - acc: 0.960 - ETA: 8:03 - loss: 0.1151 - acc: 0.960 - ETA: 8:00 - loss: 0.1150 - acc: 0.960 - ETA: 7:58 - loss: 0.1150 - acc: 0.960 - ETA: 7:56 - loss: 0.1151 - acc: 0.960 - ETA: 7:54 - loss: 0.1152 - acc: 0.960 - ETA: 7:52 - loss: 0.1150 - acc: 0.960 - ETA: 7:49 - loss: 0.1153 - acc: 0.960 - ETA: 7:47 - loss: 0.1152 - acc: 0.960 - ETA: 7:45 - loss: 0.1154 - acc: 0.960 - ETA: 7:43 - loss: 0.1153 - acc: 0.960 - ETA: 7:40 - loss: 0.1153 - acc: 0.960 - ETA: 7:38 - loss: 0.1153 - acc: 0.960 - ETA: 7:36 - loss: 0.1151 - acc: 0.960 - ETA: 7:34 - loss: 0.1147 - acc: 0.960 - ETA: 7:31 - loss: 0.1146 - acc: 0.960 - ETA: 7:29 - loss: 0.1145 - acc: 0.960 - ETA: 7:27 - loss: 0.1142 - acc: 0.961 - ETA: 7:25 - loss: 0.1140 - acc: 0.961 - ETA: 7:23 - loss: 0.1139 - acc: 0.961 - ETA: 7:20 - loss: 0.1135 - acc: 0.961 - ETA: 7:18 - loss: 0.1135 - acc: 0.961 - ETA: 7:16 - loss: 0.1131 - acc: 0.961 - ETA: 7:14 - loss: 0.1133 - acc: 0.961 - ETA: 7:12 - loss: 0.1137 - acc: 0.961 - ETA: 7:09 - loss: 0.1136 - acc: 0.961 - ETA: 7:07 - loss: 0.1139 - acc: 0.961 - ETA: 7:05 - loss: 0.1137 - acc: 0.961 - ETA: 7:03 - loss: 0.1136 - acc: 0.961 - ETA: 7:01 - loss: 0.1134 - acc: 0.961 - ETA: 6:58 - loss: 0.1134 - acc: 0.961 - ETA: 6:56 - loss: 0.1133 - acc: 0.961 - ETA: 6:54 - loss: 0.1131 - acc: 0.961 - ETA: 6:52 - loss: 0.1129 - acc: 0.961 - ETA: 6:50 - loss: 0.1128 - acc: 0.961 - ETA: 6:47 - loss: 0.1126 - acc: 0.961 - ETA: 6:45 - loss: 0.1125 - acc: 0.961 - ETA: 6:43 - loss: 0.1125 - acc: 0.961 - ETA: 6:41 - loss: 0.1124 - acc: 0.961 - ETA: 6:39 - loss: 0.1122 - acc: 0.962 - ETA: 6:37 - loss: 0.1123 - acc: 0.962 - ETA: 6:34 - loss: 0.1123 - acc: 0.961 - ETA: 6:32 - loss: 0.1123 - acc: 0.961 - ETA: 6:30 - loss: 0.1122 - acc: 0.961 - ETA: 6:28 - loss: 0.1122 - acc: 0.961 - ETA: 6:26 - loss: 0.1122 - acc: 0.961 - ETA: 6:24 - loss: 0.1121 - acc: 0.962 - ETA: 6:22 - loss: 0.1120 - acc: 0.962 - ETA: 6:19 - loss: 0.1119 - acc: 0.962 - ETA: 6:17 - loss: 0.1119 - acc: 0.962 - ETA: 6:15 - loss: 0.1118 - acc: 0.962 - ETA: 6:13 - loss: 0.1119 - acc: 0.962 - ETA: 6:11 - loss: 0.1120 - acc: 0.961 - ETA: 6:09 - loss: 0.1122 - acc: 0.961 - ETA: 6:06 - loss: 0.1121 - acc: 0.961 - ETA: 6:04 - loss: 0.1121 - acc: 0.961 - ETA: 6:02 - loss: 0.1121 - acc: 0.961 - ETA: 6:00 - loss: 0.1119 - acc: 0.961 - ETA: 5:58 - loss: 0.1118 - acc: 0.961 - ETA: 5:56 - loss: 0.1118 - acc: 0.961 - ETA: 5:54 - loss: 0.1121 - acc: 0.961 - ETA: 5:52 - loss: 0.1123 - acc: 0.961 - ETA: 5:49 - loss: 0.1121 - acc: 0.961 - ETA: 5:47 - loss: 0.1121 - acc: 0.961 - ETA: 5:45 - loss: 0.1120 - acc: 0.961 - ETA: 5:43 - loss: 0.1123 - acc: 0.961 - ETA: 5:41 - loss: 0.1124 - acc: 0.961 - ETA: 5:39 - loss: 0.1125 - acc: 0.961 - ETA: 5:37 - loss: 0.1122 - acc: 0.961 - ETA: 5:35 - loss: 0.1122 - acc: 0.961 - ETA: 5:33 - loss: 0.1120 - acc: 0.961 - ETA: 5:31 - loss: 0.1122 - acc: 0.961 - ETA: 5:28 - loss: 0.1121 - acc: 0.961 - ETA: 5:26 - loss: 0.1122 - acc: 0.961 - ETA: 5:24 - loss: 0.1122 - acc: 0.961 - ETA: 5:22 - loss: 0.1122 - acc: 0.961 - ETA: 5:20 - loss: 0.1122 - acc: 0.961 - ETA: 5:18 - loss: 0.1121 - acc: 0.961 - ETA: 5:16 - loss: 0.1119 - acc: 0.961 - ETA: 5:14 - loss: 0.1124 - acc: 0.961 - ETA: 5:12 - loss: 0.1124 - acc: 0.961 - ETA: 5:10 - loss: 0.1123 - acc: 0.961 - ETA: 5:07 - loss: 0.1122 - acc: 0.961 - ETA: 5:05 - loss: 0.1121 - acc: 0.961 - ETA: 5:03 - loss: 0.1121 - acc: 0.961 - ETA: 5:01 - loss: 0.1122 - acc: 0.961 - ETA: 4:59 - loss: 0.1123 - acc: 0.961 - ETA: 4:57 - loss: 0.1125 - acc: 0.961 - ETA: 4:55 - loss: 0.1126 - acc: 0.961 - ETA: 4:53 - loss: 0.1124 - acc: 0.961 - ETA: 4:51 - loss: 0.1123 - acc: 0.961 - ETA: 4:49 - loss: 0.1121 - acc: 0.961 - ETA: 4:47 - loss: 0.1126 - acc: 0.961 - ETA: 4:44 - loss: 0.1125 - acc: 0.961 - ETA: 4:42 - loss: 0.1126 - acc: 0.961 - ETA: 4:40 - loss: 0.1125 - acc: 0.961 - ETA: 4:38 - loss: 0.1125 - acc: 0.961 - ETA: 4:36 - loss: 0.1125 - acc: 0.961 - ETA: 4:34 - loss: 0.1123 - acc: 0.961 - ETA: 4:32 - loss: 0.1121 - acc: 0.961 - ETA: 4:30 - loss: 0.1119 - acc: 0.961 - ETA: 4:28 - loss: 0.1119 - acc: 0.961 - ETA: 4:26 - loss: 0.1119 - acc: 0.961 - ETA: 4:24 - loss: 0.1120 - acc: 0.961 - ETA: 4:22 - loss: 0.1117 - acc: 0.961 - ETA: 4:20 - loss: 0.1117 - acc: 0.961 - ETA: 4:18 - loss: 0.1117 - acc: 0.961 - ETA: 4:15 - loss: 0.1115 - acc: 0.961 - ETA: 4:13 - loss: 0.1115 - acc: 0.961 - ETA: 4:11 - loss: 0.1114 - acc: 0.961 - ETA: 4:09 - loss: 0.1112 - acc: 0.961 - ETA: 4:07 - loss: 0.1112 - acc: 0.962 - ETA: 4:05 - loss: 0.1111 - acc: 0.962 - ETA: 4:03 - loss: 0.1109 - acc: 0.962 - ETA: 4:01 - loss: 0.1111 - acc: 0.962 - ETA: 3:59 - loss: 0.1109 - acc: 0.962 - ETA: 3:57 - loss: 0.1106 - acc: 0.962 - ETA: 3:55 - loss: 0.1107 - acc: 0.962 - ETA: 3:53 - loss: 0.1105 - acc: 0.962 - ETA: 3:51 - loss: 0.1104 - acc: 0.962 - ETA: 3:49 - loss: 0.1103 - acc: 0.962 - ETA: 3:47 - loss: 0.1103 - acc: 0.962 - ETA: 3:45 - loss: 0.1106 - acc: 0.962 - ETA: 3:43 - loss: 0.1108 - acc: 0.962 - ETA: 3:40 - loss: 0.1108 - acc: 0.962 - ETA: 3:38 - loss: 0.1105 - acc: 0.962 - ETA: 3:36 - loss: 0.1104 - acc: 0.962 - ETA: 3:34 - loss: 0.1105 - acc: 0.962 - ETA: 3:32 - loss: 0.1107 - acc: 0.962 - ETA: 3:30 - loss: 0.1109 - acc: 0.961 - ETA: 3:28 - loss: 0.1110 - acc: 0.961 - ETA: 3:26 - loss: 0.1109 - acc: 0.961 - ETA: 3:24 - loss: 0.1110 - acc: 0.961 - ETA: 3:22 - loss: 0.1110 - acc: 0.961 - ETA: 3:20 - loss: 0.1112 - acc: 0.961 - ETA: 3:18 - loss: 0.1113 - acc: 0.961 - ETA: 3:16 - loss: 0.1112 - acc: 0.961 - ETA: 3:14 - loss: 0.1115 - acc: 0.961 - ETA: 3:12 - loss: 0.1114 - acc: 0.961 - ETA: 3:10 - loss: 0.1114 - acc: 0.961 - ETA: 3:08 - loss: 0.1112 - acc: 0.961 - ETA: 3:06 - loss: 0.1111 - acc: 0.961 - ETA: 3:04 - loss: 0.1110 - acc: 0.961 - ETA: 3:02 - loss: 0.1111 - acc: 0.961 - ETA: 3:00 - loss: 0.1109 - acc: 0.961 - ETA: 2:58 - loss: 0.1110 - acc: 0.961 - ETA: 2:56 - loss: 0.1112 - acc: 0.961 - ETA: 2:54 - loss: 0.1113 - acc: 0.961 - ETA: 2:52 - loss: 0.1112 - acc: 0.961 - ETA: 2:50 - loss: 0.1111 - acc: 0.961 - ETA: 2:48 - loss: 0.1114 - acc: 0.961 - ETA: 2:46 - loss: 0.1114 - acc: 0.961 - ETA: 2:44 - loss: 0.1114 - acc: 0.961 - ETA: 2:42 - loss: 0.1114 - acc: 0.961 - ETA: 2:39 - loss: 0.1116 - acc: 0.961 - ETA: 2:37 - loss: 0.1117 - acc: 0.961 - ETA: 2:35 - loss: 0.1117 - acc: 0.961 - ETA: 2:33 - loss: 0.1115 - acc: 0.961 - ETA: 2:31 - loss: 0.1114 - acc: 0.961 - ETA: 2:29 - loss: 0.1116 - acc: 0.961 - ETA: 2:27 - loss: 0.1115 - acc: 0.961 - ETA: 2:25 - loss: 0.1114 - acc: 0.961 - ETA: 2:23 - loss: 0.1113 - acc: 0.961 - ETA: 2:21 - loss: 0.1113 - acc: 0.961 - ETA: 2:19 - loss: 0.1115 - acc: 0.961 - ETA: 2:17 - loss: 0.1115 - acc: 0.961 - ETA: 2:15 - loss: 0.1116 - acc: 0.961 - ETA: 2:13 - loss: 0.1118 - acc: 0.961 - ETA: 2:11 - loss: 0.1118 - acc: 0.961 - ETA: 2:09 - loss: 0.1121 - acc: 0.961 - ETA: 2:07 - loss: 0.1122 - acc: 0.961 - ETA: 2:05 - loss: 0.1122 - acc: 0.961 - ETA: 2:03 - loss: 0.1121 - acc: 0.961 - ETA: 2:01 - loss: 0.1121 - acc: 0.961 - ETA: 1:59 - loss: 0.1123 - acc: 0.961 - ETA: 1:57 - loss: 0.1122 - acc: 0.961 - ETA: 1:55 - loss: 0.1123 - acc: 0.961 - ETA: 1:53 - loss: 0.1122 - acc: 0.961 - ETA: 1:51 - loss: 0.1122 - acc: 0.961 - ETA: 1:49 - loss: 0.1123 - acc: 0.961 - ETA: 1:47 - loss: 0.1122 - acc: 0.961 - ETA: 1:45 - loss: 0.1122 - acc: 0.961 - ETA: 1:43 - loss: 0.1123 - acc: 0.961 - ETA: 1:41 - loss: 0.1121 - acc: 0.961 - ETA: 1:39 - loss: 0.1121 - acc: 0.961 - ETA: 1:37 - loss: 0.1122 - acc: 0.961 - ETA: 1:35 - loss: 0.1122 - acc: 0.961 - ETA: 1:33 - loss: 0.1121 - acc: 0.961 - ETA: 1:31 - loss: 0.1119 - acc: 0.961 - ETA: 1:29 - loss: 0.1119 - acc: 0.961 - ETA: 1:27 - loss: 0.1118 - acc: 0.961 - ETA: 1:25 - loss: 0.1117 - acc: 0.961 - ETA: 1:23 - loss: 0.1118 - acc: 0.9616"
     ]
    },
    {
     "name": "stdout",
     "output_type": "stream",
     "text": [
      "45000/45000 [==============================] - ETA: 1:21 - loss: 0.1117 - acc: 0.961 - ETA: 1:19 - loss: 0.1116 - acc: 0.961 - ETA: 1:17 - loss: 0.1114 - acc: 0.961 - ETA: 1:15 - loss: 0.1113 - acc: 0.961 - ETA: 1:13 - loss: 0.1112 - acc: 0.961 - ETA: 1:11 - loss: 0.1110 - acc: 0.961 - ETA: 1:09 - loss: 0.1110 - acc: 0.961 - ETA: 1:07 - loss: 0.1109 - acc: 0.961 - ETA: 1:05 - loss: 0.1110 - acc: 0.961 - ETA: 1:03 - loss: 0.1111 - acc: 0.961 - ETA: 1:01 - loss: 0.1110 - acc: 0.961 - ETA: 59s - loss: 0.1109 - acc: 0.961 - ETA: 57s - loss: 0.1108 - acc: 0.96 - ETA: 55s - loss: 0.1107 - acc: 0.96 - ETA: 53s - loss: 0.1107 - acc: 0.96 - ETA: 51s - loss: 0.1108 - acc: 0.96 - ETA: 49s - loss: 0.1108 - acc: 0.96 - ETA: 47s - loss: 0.1109 - acc: 0.96 - ETA: 45s - loss: 0.1109 - acc: 0.96 - ETA: 43s - loss: 0.1108 - acc: 0.96 - ETA: 41s - loss: 0.1107 - acc: 0.96 - ETA: 39s - loss: 0.1106 - acc: 0.96 - ETA: 37s - loss: 0.1106 - acc: 0.96 - ETA: 35s - loss: 0.1105 - acc: 0.96 - ETA: 33s - loss: 0.1105 - acc: 0.96 - ETA: 31s - loss: 0.1106 - acc: 0.96 - ETA: 29s - loss: 0.1108 - acc: 0.96 - ETA: 27s - loss: 0.1108 - acc: 0.96 - ETA: 25s - loss: 0.1107 - acc: 0.96 - ETA: 23s - loss: 0.1108 - acc: 0.96 - ETA: 21s - loss: 0.1108 - acc: 0.96 - ETA: 19s - loss: 0.1108 - acc: 0.96 - ETA: 17s - loss: 0.1108 - acc: 0.96 - ETA: 15s - loss: 0.1109 - acc: 0.96 - ETA: 13s - loss: 0.1109 - acc: 0.96 - ETA: 11s - loss: 0.1108 - acc: 0.96 - ETA: 9s - loss: 0.1109 - acc: 0.9620 - ETA: 7s - loss: 0.1107 - acc: 0.962 - ETA: 5s - loss: 0.1108 - acc: 0.962 - ETA: 3s - loss: 0.1108 - acc: 0.962 - ETA: 1s - loss: 0.1107 - acc: 0.962 - 912s 20ms/step - loss: 0.1107 - acc: 0.9622 - val_loss: 0.1344 - val_acc: 0.9482\n"
     ]
    }
   ],
   "source": [
    "from keras.preprocessing.text import Tokenizer\n",
    "from keras.preprocessing.sequence import pad_sequences\n",
    "from keras.layers import Dense , Input , LSTM , Embedding, Dropout , Activation, GRU, Flatten\n",
    "from keras.layers import Bidirectional, GlobalMaxPool1D\n",
    "from keras.models import Model, Sequential\n",
    "from keras.layers import Convolution1D\n",
    "from keras import initializers, regularizers, constraints, optimizers, layers\n",
    "\n",
    "embed_size = 300\n",
    "model = Sequential()\n",
    "model.add(Embedding(max_features, embed_size))\n",
    "model.add(Bidirectional(LSTM(256)))\n",
    "model.add(Dense(20, activation=\"relu\"))\n",
    "model.add(Dropout(0.05))\n",
    "model.add(Dense(1, activation=\"sigmoid\"))\n",
    "model.compile(loss='binary_crossentropy', optimizer='adam', metrics=['accuracy'])\n",
    "print(model.summary())\n",
    "\n",
    "batch_size = 100\n",
    "epochs = 3\n",
    "history = model.fit(X_t,y, batch_size=batch_size, epochs=epochs, validation_split=0.1)"
   ]
  },
  {
   "cell_type": "code",
   "execution_count": 163,
   "metadata": {},
   "outputs": [
    {
     "data": {
      "image/png": "[encoded data removed]",
      "text/plain": [
       "<Figure size 432x288 with 1 Axes>"
      ]
     },
     "metadata": {},
     "output_type": "display_data"
    }
   ],
   "source": [
    "import matplotlib.pyplot as plt\n",
    "plt.plot(history.history['acc'])\n",
    "plt.plot(history.history['val_acc'])\n",
    "plt.ylabel('loss')\n",
    "plt.xlabel('epoch')\n",
    "plt.legend(['train', 'test'], loc='upper left')\n",
    "plt.show()"
   ]
  },
  {
   "cell_type": "code",
   "execution_count": 164,
   "metadata": {},
   "outputs": [
    {
     "data": {
      "text/plain": [
       "id        25000\n",
       "review    25000\n",
       "text      25000\n",
       "dtype: int64"
      ]
     },
     "execution_count": 164,
     "metadata": {},
     "output_type": "execute_result"
    }
   ],
   "source": [
    "test_df = pd.read_csv(test_data_path,header=0,sep='\\t')\n",
    "test_df['text'] = test_df.review.apply(clean_text)\n",
    "test_df.count()"
   ]
  },
  {
   "cell_type": "code",
   "execution_count": 165,
   "metadata": {},
   "outputs": [
    {
     "data": {
      "text/plain": [
       "25000"
      ]
     },
     "execution_count": 165,
     "metadata": {},
     "output_type": "execute_result"
    }
   ],
   "source": [
    "list_token_test = tokenizer.texts_to_sequences(test_df['text'])\n",
    "len(list_token_test)"
   ]
  },
  {
   "cell_type": "code",
   "execution_count": 166,
   "metadata": {},
   "outputs": [],
   "source": [
    "x_test = pad_sequences(list_token_test,maxlen=maxlen)\n",
    "y = model.predict(x_test)"
   ]
  },
  {
   "cell_type": "code",
   "execution_count": 167,
   "metadata": {},
   "outputs": [
    {
     "data": {
      "text/plain": [
       "1"
      ]
     },
     "execution_count": 167,
     "metadata": {},
     "output_type": "execute_result"
    }
   ],
   "source": [
    "import numpy as np\n",
    "y = y.squeeze()\n",
    "y.shape\n",
    "y = np.array(y>0.5,dtype=np.int)\n",
    "y[0]"
   ]
  },
  {
   "cell_type": "code",
   "execution_count": 168,
   "metadata": {},
   "outputs": [],
   "source": [
    "result_df = pd.DataFrame({'id':test_df['id'],'sentiment':y})\n",
    "result_df.to_csv(os.path.join(data_path,'lstm_keras.csv'),index=False)"
   ]
  },
  {
   "cell_type": "code",
   "execution_count": 148,
   "metadata": {},
   "outputs": [
    {
     "name": "stdout",
     "output_type": "stream",
     "text": [
      "Object `keras.metrics` not found.\n"
     ]
    }
   ],
   "source": []
  },
  {
   "cell_type": "code",
   "execution_count": null,
   "metadata": {
    "collapsed": true
   },
   "outputs": [],
   "source": []
  }
 ],
 "metadata": {
  "kernelspec": {
   "display_name": "Python [conda env:pytorch]",
   "language": "python",
   "name": "conda-env-pytorch-py"
  },
  "language_info": {
   "codemirror_mode": {
    "name": "ipython",
    "version": 3
   },
   "file_extension": ".py",
   "mimetype": "text/x-python",
   "name": "python",
   "nbconvert_exporter": "python",
   "pygments_lexer": "ipython3",
   "version": "3.6.2"
  }
 },
 "nbformat": 4,
 "nbformat_minor": 2
}
